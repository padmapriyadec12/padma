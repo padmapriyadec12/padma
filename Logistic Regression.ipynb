{
 "cells": [
  {
   "cell_type": "code",
   "execution_count": 12,
   "metadata": {
    "collapsed": true
   },
   "outputs": [],
   "source": [
    "import pandas as pd\n",
    "import pylab as plt\n",
    "import numpy as np\n",
    "\n",
    "from sklearn.model_selection import train_test_split\n",
    "from sklearn.linear_model import LogisticRegression\n",
    "from sklearn import metrics\n",
    "\n",
    "import os\n",
    "\n",
    "os.chdir('C:\\\\Users\\\\NITHIN\\\\Desktop\\\\Data Science\\\\Data sets')"
   ]
  },
  {
   "cell_type": "code",
   "execution_count": 13,
   "metadata": {},
   "outputs": [
    {
     "name": "stdout",
     "output_type": "stream",
     "text": [
      "['times_pregnant' 'Plasma_glucose_concentration_2 hr' 'blood_pressure'\n",
      " ' Triceps_skin_fold_thickness ' ' Hr2_serum_insulin' 'BOI'\n",
      " ' Diabetes_pedigree_function' 'Age' 'Class']\n"
     ]
    },
    {
     "data": {
      "text/html": [
       "<div>\n",
       "<style>\n",
       "    .dataframe thead tr:only-child th {\n",
       "        text-align: right;\n",
       "    }\n",
       "\n",
       "    .dataframe thead th {\n",
       "        text-align: left;\n",
       "    }\n",
       "\n",
       "    .dataframe tbody tr th {\n",
       "        vertical-align: top;\n",
       "    }\n",
       "</style>\n",
       "<table border=\"1\" class=\"dataframe\">\n",
       "  <thead>\n",
       "    <tr style=\"text-align: right;\">\n",
       "      <th></th>\n",
       "      <th>times_pregnant</th>\n",
       "      <th>Plasma_glucose_concentration_2 hr</th>\n",
       "      <th>blood_pressure</th>\n",
       "      <th>Triceps_skin_fold_thickness</th>\n",
       "      <th>Hr2_serum_insulin</th>\n",
       "      <th>BOI</th>\n",
       "      <th>Diabetes_pedigree_function</th>\n",
       "      <th>Age</th>\n",
       "      <th>Class</th>\n",
       "    </tr>\n",
       "  </thead>\n",
       "  <tbody>\n",
       "    <tr>\n",
       "      <th>0</th>\n",
       "      <td>6</td>\n",
       "      <td>148</td>\n",
       "      <td>72</td>\n",
       "      <td>35</td>\n",
       "      <td>0</td>\n",
       "      <td>33.6</td>\n",
       "      <td>0.627</td>\n",
       "      <td>50</td>\n",
       "      <td>1</td>\n",
       "    </tr>\n",
       "    <tr>\n",
       "      <th>1</th>\n",
       "      <td>1</td>\n",
       "      <td>85</td>\n",
       "      <td>66</td>\n",
       "      <td>29</td>\n",
       "      <td>0</td>\n",
       "      <td>26.6</td>\n",
       "      <td>0.351</td>\n",
       "      <td>31</td>\n",
       "      <td>0</td>\n",
       "    </tr>\n",
       "    <tr>\n",
       "      <th>2</th>\n",
       "      <td>8</td>\n",
       "      <td>183</td>\n",
       "      <td>64</td>\n",
       "      <td>0</td>\n",
       "      <td>0</td>\n",
       "      <td>23.3</td>\n",
       "      <td>0.672</td>\n",
       "      <td>32</td>\n",
       "      <td>1</td>\n",
       "    </tr>\n",
       "    <tr>\n",
       "      <th>3</th>\n",
       "      <td>1</td>\n",
       "      <td>89</td>\n",
       "      <td>66</td>\n",
       "      <td>23</td>\n",
       "      <td>94</td>\n",
       "      <td>28.1</td>\n",
       "      <td>0.167</td>\n",
       "      <td>21</td>\n",
       "      <td>0</td>\n",
       "    </tr>\n",
       "    <tr>\n",
       "      <th>4</th>\n",
       "      <td>0</td>\n",
       "      <td>137</td>\n",
       "      <td>40</td>\n",
       "      <td>35</td>\n",
       "      <td>168</td>\n",
       "      <td>43.1</td>\n",
       "      <td>2.288</td>\n",
       "      <td>33</td>\n",
       "      <td>1</td>\n",
       "    </tr>\n",
       "  </tbody>\n",
       "</table>\n",
       "</div>"
      ],
      "text/plain": [
       "   times_pregnant  Plasma_glucose_concentration_2 hr  blood_pressure  \\\n",
       "0               6                                148              72   \n",
       "1               1                                 85              66   \n",
       "2               8                                183              64   \n",
       "3               1                                 89              66   \n",
       "4               0                                137              40   \n",
       "\n",
       "    Triceps_skin_fold_thickness    Hr2_serum_insulin   BOI  \\\n",
       "0                             35                   0  33.6   \n",
       "1                             29                   0  26.6   \n",
       "2                              0                   0  23.3   \n",
       "3                             23                  94  28.1   \n",
       "4                             35                 168  43.1   \n",
       "\n",
       "    Diabetes_pedigree_function  Age  Class  \n",
       "0                        0.627   50      1  \n",
       "1                        0.351   31      0  \n",
       "2                        0.672   32      1  \n",
       "3                        0.167   21      0  \n",
       "4                        2.288   33      1  "
      ]
     },
     "execution_count": 13,
     "metadata": {},
     "output_type": "execute_result"
    }
   ],
   "source": [
    "# read the data in\n",
    "df = pd.read_csv(\"diabetes.csv\")\n",
    "print(df.columns.values)\n",
    "df.head()"
   ]
  },
  {
   "cell_type": "code",
   "execution_count": 14,
   "metadata": {},
   "outputs": [
    {
     "name": "stdout",
     "output_type": "stream",
     "text": [
      "0    0.651042\n",
      "1    0.348958\n",
      "Name: Class, dtype: float64\n"
     ]
    }
   ],
   "source": [
    "# target variable % distribution\n",
    "print(df['Class'].value_counts(normalize=True))"
   ]
  },
  {
   "cell_type": "code",
   "execution_count": 15,
   "metadata": {
    "collapsed": true
   },
   "outputs": [],
   "source": [
    "#build a quick logistic regression model and check the accuracy\n",
    "\n",
    "X = df.iloc[:,:8] # independent variables\n",
    "y = df['Class'] # dependent variables"
   ]
  },
  {
   "cell_type": "code",
   "execution_count": 16,
   "metadata": {
    "collapsed": true
   },
   "outputs": [],
   "source": [
    "# evaluate the model by splitting into train and test sets\n",
    "X_train, X_test, y_train, y_test = train_test_split(X, y, test_size=0.3,random_state=0)"
   ]
  },
  {
   "cell_type": "code",
   "execution_count": 19,
   "metadata": {
    "collapsed": true
   },
   "outputs": [],
   "source": [
    "# instantiate a logistic regression model, and fit\n",
    "model = LogisticRegression()\n",
    "model = model.fit(X_train, y_train)"
   ]
  },
  {
   "cell_type": "code",
   "execution_count": 23,
   "metadata": {},
   "outputs": [
    {
     "data": {
      "text/plain": [
       "array([1, 0, 0, 1, 0, 0, 1, 1, 0, 0, 1, 1, 0, 0, 0, 0, 1, 0, 0, 0, 1, 0, 0,\n",
       "       0, 0, 0, 0, 1, 0, 0, 0, 0, 0, 0, 0, 1, 0, 0, 0, 1, 0, 0, 0, 1, 1, 0,\n",
       "       0, 0, 0, 0, 0, 0, 1, 0, 0, 0, 0, 0, 0, 0, 1, 0, 0, 1, 1, 1, 1, 0, 0,\n",
       "       0, 0, 1, 0, 1, 1, 0, 0, 1, 0, 0, 0, 0, 0, 0, 0, 0, 0, 0, 1, 0, 0, 0,\n",
       "       0, 0, 1, 0, 0, 0, 1, 0, 0, 0, 0, 0, 1, 0, 0, 0, 0, 1, 0, 0, 1, 0, 1,\n",
       "       1, 0, 1, 0, 1, 0, 0, 0, 0, 0, 0, 0, 0, 0, 0, 0, 0, 0, 1, 0, 0, 0, 0,\n",
       "       1, 0, 0, 1, 0, 0, 0, 0, 0, 0, 0, 0, 0, 1, 0, 0, 1, 0, 1, 0, 1, 1, 1,\n",
       "       1, 0, 0, 1, 0, 0, 0, 0, 0, 0, 0, 0, 0, 0, 0, 0, 0, 0, 0, 0, 1, 0, 1,\n",
       "       0, 0, 1, 0, 0, 0, 0, 0, 0, 0, 0, 1, 1, 1, 0, 0, 0, 0, 0, 0, 0, 0, 0,\n",
       "       0, 0, 0, 0, 0, 0, 0, 0, 0, 0, 0, 1, 0, 0, 0, 0, 1, 1, 1, 0, 0, 0, 0,\n",
       "       0], dtype=int64)"
      ]
     },
     "execution_count": 23,
     "metadata": {},
     "output_type": "execute_result"
    }
   ],
   "source": [
    "# predict class labels for the train set. The predict fuction converts probability values > .5 to 1 else 0\n",
    "y_pred = model.predict(X_test)\n",
    "y_pred"
   ]
  },
  {
   "cell_type": "code",
   "execution_count": 21,
   "metadata": {
    "collapsed": true
   },
   "outputs": [],
   "source": [
    "# generate class probabilities\n",
    "# Notice that 2 elements will be returned in probs array,\n",
    "\n",
    "probs = model.predict_proba(X_test)\n"
   ]
  },
  {
   "cell_type": "code",
   "execution_count": 25,
   "metadata": {},
   "outputs": [
    {
     "data": {
      "text/plain": [
       "array([[ 0.10988001,  0.89011999],\n",
       "       [ 0.78965152,  0.21034848],\n",
       "       [ 0.8593293 ,  0.1406707 ],\n",
       "       [ 0.39141218,  0.60858782],\n",
       "       [ 0.82589411,  0.17410589],\n",
       "       [ 0.92348035,  0.07651965],\n",
       "       [ 0.32355693,  0.67644307],\n",
       "       [ 0.25748181,  0.74251819],\n",
       "       [ 0.59415329,  0.40584671],\n",
       "       [ 0.62385934,  0.37614066],\n",
       "       [ 0.45844292,  0.54155708],\n",
       "       [ 0.10473089,  0.89526911],\n",
       "       [ 0.69191157,  0.30808843],\n",
       "       [ 0.7779809 ,  0.2220191 ],\n",
       "       [ 0.83030203,  0.16969797],\n",
       "       [ 0.79534704,  0.20465296],\n",
       "       [ 0.19606098,  0.80393902],\n",
       "       [ 0.93026147,  0.06973853],\n",
       "       [ 0.59201268,  0.40798732],\n",
       "       [ 0.6860012 ,  0.3139988 ],\n",
       "       [ 0.42870789,  0.57129211],\n",
       "       [ 0.64719586,  0.35280414],\n",
       "       [ 0.64379711,  0.35620289],\n",
       "       [ 0.90353786,  0.09646214],\n",
       "       [ 0.89742648,  0.10257352],\n",
       "       [ 0.6203313 ,  0.3796687 ],\n",
       "       [ 0.91312868,  0.08687132],\n",
       "       [ 0.17881772,  0.82118228],\n",
       "       [ 0.82043398,  0.17956602],\n",
       "       [ 0.79421606,  0.20578394],\n",
       "       [ 0.52650741,  0.47349259],\n",
       "       [ 0.72135269,  0.27864731],\n",
       "       [ 0.87239448,  0.12760552],\n",
       "       [ 0.52928609,  0.47071391],\n",
       "       [ 0.81686577,  0.18313423],\n",
       "       [ 0.33722295,  0.66277705],\n",
       "       [ 0.52329786,  0.47670214],\n",
       "       [ 0.8690483 ,  0.1309517 ],\n",
       "       [ 0.59769049,  0.40230951],\n",
       "       [ 0.30395411,  0.69604589],\n",
       "       [ 0.69627607,  0.30372393],\n",
       "       [ 0.78607201,  0.21392799],\n",
       "       [ 0.76528838,  0.23471162],\n",
       "       [ 0.23673843,  0.76326157],\n",
       "       [ 0.27519282,  0.72480718],\n",
       "       [ 0.9657001 ,  0.0342999 ],\n",
       "       [ 0.84089749,  0.15910251],\n",
       "       [ 0.7156098 ,  0.2843902 ],\n",
       "       [ 0.62394959,  0.37605041],\n",
       "       [ 0.69527265,  0.30472735],\n",
       "       [ 0.5573138 ,  0.4426862 ],\n",
       "       [ 0.73744845,  0.26255155],\n",
       "       [ 0.19033637,  0.80966363],\n",
       "       [ 0.5354159 ,  0.4645841 ],\n",
       "       [ 0.82062823,  0.17937177],\n",
       "       [ 0.98739932,  0.01260068],\n",
       "       [ 0.88747567,  0.11252433],\n",
       "       [ 0.5884345 ,  0.4115655 ],\n",
       "       [ 0.69350327,  0.30649673],\n",
       "       [ 0.74410449,  0.25589551],\n",
       "       [ 0.36654716,  0.63345284],\n",
       "       [ 0.53240591,  0.46759409],\n",
       "       [ 0.83218966,  0.16781034],\n",
       "       [ 0.2824068 ,  0.7175932 ],\n",
       "       [ 0.37255637,  0.62744363],\n",
       "       [ 0.16315738,  0.83684262],\n",
       "       [ 0.36006941,  0.63993059],\n",
       "       [ 0.80396302,  0.19603698],\n",
       "       [ 0.59171307,  0.40828693],\n",
       "       [ 0.83906648,  0.16093352],\n",
       "       [ 0.81945717,  0.18054283],\n",
       "       [ 0.44701738,  0.55298262],\n",
       "       [ 0.85628439,  0.14371561],\n",
       "       [ 0.14398774,  0.85601226],\n",
       "       [ 0.25422244,  0.74577756],\n",
       "       [ 0.67676917,  0.32323083],\n",
       "       [ 0.86553451,  0.13446549],\n",
       "       [ 0.40622632,  0.59377368],\n",
       "       [ 0.89066014,  0.10933986],\n",
       "       [ 0.77298925,  0.22701075],\n",
       "       [ 0.67039655,  0.32960345],\n",
       "       [ 0.59931591,  0.40068409],\n",
       "       [ 0.75592746,  0.24407254],\n",
       "       [ 0.92025115,  0.07974885],\n",
       "       [ 0.73994987,  0.26005013],\n",
       "       [ 0.78243277,  0.21756723],\n",
       "       [ 0.64420951,  0.35579049],\n",
       "       [ 0.54009411,  0.45990589],\n",
       "       [ 0.20903444,  0.79096556],\n",
       "       [ 0.78762758,  0.21237242],\n",
       "       [ 0.77191933,  0.22808067],\n",
       "       [ 0.78705239,  0.21294761],\n",
       "       [ 0.7013613 ,  0.2986387 ],\n",
       "       [ 0.91899897,  0.08100103],\n",
       "       [ 0.41550114,  0.58449886],\n",
       "       [ 0.73853497,  0.26146503],\n",
       "       [ 0.6096287 ,  0.3903713 ],\n",
       "       [ 0.5287082 ,  0.4712918 ],\n",
       "       [ 0.4691412 ,  0.5308588 ],\n",
       "       [ 0.72145401,  0.27854599],\n",
       "       [ 0.73458531,  0.26541469],\n",
       "       [ 0.83575058,  0.16424942],\n",
       "       [ 0.78048072,  0.21951928],\n",
       "       [ 0.91555852,  0.08444148],\n",
       "       [ 0.44012853,  0.55987147],\n",
       "       [ 0.64072351,  0.35927649],\n",
       "       [ 0.82158363,  0.17841637],\n",
       "       [ 0.66101372,  0.33898628],\n",
       "       [ 0.91344184,  0.08655816],\n",
       "       [ 0.28027785,  0.71972215],\n",
       "       [ 0.83440752,  0.16559248],\n",
       "       [ 0.6605538 ,  0.3394462 ],\n",
       "       [ 0.4167539 ,  0.5832461 ],\n",
       "       [ 0.65943223,  0.34056777],\n",
       "       [ 0.4812589 ,  0.5187411 ],\n",
       "       [ 0.4388835 ,  0.5611165 ],\n",
       "       [ 0.82530379,  0.17469621],\n",
       "       [ 0.33238672,  0.66761328],\n",
       "       [ 0.85874044,  0.14125956],\n",
       "       [ 0.34365616,  0.65634384],\n",
       "       [ 0.6309627 ,  0.3690373 ],\n",
       "       [ 0.6943073 ,  0.3056927 ],\n",
       "       [ 0.66736083,  0.33263917],\n",
       "       [ 0.53064728,  0.46935272],\n",
       "       [ 0.7259497 ,  0.2740503 ],\n",
       "       [ 0.9033291 ,  0.0966709 ],\n",
       "       [ 0.69070929,  0.30929071],\n",
       "       [ 0.63419894,  0.36580106],\n",
       "       [ 0.52731864,  0.47268136],\n",
       "       [ 0.62086029,  0.37913971],\n",
       "       [ 0.57420047,  0.42579953],\n",
       "       [ 0.83660261,  0.16339739],\n",
       "       [ 0.88876572,  0.11123428],\n",
       "       [ 0.30409633,  0.69590367],\n",
       "       [ 0.66792583,  0.33207417],\n",
       "       [ 0.59785576,  0.40214424],\n",
       "       [ 0.78475627,  0.21524373],\n",
       "       [ 0.60469068,  0.39530932],\n",
       "       [ 0.29757711,  0.70242289],\n",
       "       [ 0.73344983,  0.26655017],\n",
       "       [ 0.85231654,  0.14768346],\n",
       "       [ 0.47157338,  0.52842662],\n",
       "       [ 0.87035686,  0.12964314],\n",
       "       [ 0.88678875,  0.11321125],\n",
       "       [ 0.63121677,  0.36878323],\n",
       "       [ 0.85400344,  0.14599656],\n",
       "       [ 0.86501868,  0.13498132],\n",
       "       [ 0.84384738,  0.15615262],\n",
       "       [ 0.82446641,  0.17553359],\n",
       "       [ 0.77269223,  0.22730777],\n",
       "       [ 0.85312206,  0.14687794],\n",
       "       [ 0.46751292,  0.53248708],\n",
       "       [ 0.83423654,  0.16576346],\n",
       "       [ 0.7831164 ,  0.2168836 ],\n",
       "       [ 0.31622289,  0.68377711],\n",
       "       [ 0.80686391,  0.19313609],\n",
       "       [ 0.41273473,  0.58726527],\n",
       "       [ 0.79504578,  0.20495422],\n",
       "       [ 0.35941744,  0.64058256],\n",
       "       [ 0.06702239,  0.93297761],\n",
       "       [ 0.34596498,  0.65403502],\n",
       "       [ 0.28083242,  0.71916758],\n",
       "       [ 0.93769372,  0.06230628],\n",
       "       [ 0.69467887,  0.30532113],\n",
       "       [ 0.20369533,  0.79630467],\n",
       "       [ 0.5457638 ,  0.4542362 ],\n",
       "       [ 0.72991828,  0.27008172],\n",
       "       [ 0.81645368,  0.18354632],\n",
       "       [ 0.69095199,  0.30904801],\n",
       "       [ 0.86942358,  0.13057642],\n",
       "       [ 0.78402039,  0.21597961],\n",
       "       [ 0.74584262,  0.25415738],\n",
       "       [ 0.7650734 ,  0.2349266 ],\n",
       "       [ 0.74995702,  0.25004298],\n",
       "       [ 0.51246464,  0.48753536],\n",
       "       [ 0.81913244,  0.18086756],\n",
       "       [ 0.62729005,  0.37270995],\n",
       "       [ 0.85046558,  0.14953442],\n",
       "       [ 0.8228584 ,  0.1771416 ],\n",
       "       [ 0.87857358,  0.12142642],\n",
       "       [ 0.80729571,  0.19270429],\n",
       "       [ 0.30532832,  0.69467168],\n",
       "       [ 0.81531744,  0.18468256],\n",
       "       [ 0.12951223,  0.87048777],\n",
       "       [ 0.54279737,  0.45720263],\n",
       "       [ 0.94254406,  0.05745594],\n",
       "       [ 0.30990689,  0.69009311],\n",
       "       [ 0.70288286,  0.29711714],\n",
       "       [ 0.541133  ,  0.458867  ],\n",
       "       [ 0.81574925,  0.18425075],\n",
       "       [ 0.75821784,  0.24178216],\n",
       "       [ 0.85450999,  0.14549001],\n",
       "       [ 0.84473949,  0.15526051],\n",
       "       [ 0.71018545,  0.28981455],\n",
       "       [ 0.88090857,  0.11909143],\n",
       "       [ 0.27676483,  0.72323517],\n",
       "       [ 0.31401334,  0.68598666],\n",
       "       [ 0.49681158,  0.50318842],\n",
       "       [ 0.87802269,  0.12197731],\n",
       "       [ 0.69833313,  0.30166687],\n",
       "       [ 0.86938911,  0.13061089],\n",
       "       [ 0.79235005,  0.20764995],\n",
       "       [ 0.76412076,  0.23587924],\n",
       "       [ 0.60796625,  0.39203375],\n",
       "       [ 0.71781717,  0.28218283],\n",
       "       [ 0.80658983,  0.19341017],\n",
       "       [ 0.73305072,  0.26694928],\n",
       "       [ 0.78134471,  0.21865529],\n",
       "       [ 0.6081506 ,  0.3918494 ],\n",
       "       [ 0.81234502,  0.18765498],\n",
       "       [ 0.86126295,  0.13873705],\n",
       "       [ 0.8671904 ,  0.1328096 ],\n",
       "       [ 0.64366601,  0.35633399],\n",
       "       [ 0.6523258 ,  0.3476742 ],\n",
       "       [ 0.75121196,  0.24878804],\n",
       "       [ 0.66388059,  0.33611941],\n",
       "       [ 0.53225386,  0.46774614],\n",
       "       [ 0.6624494 ,  0.3375506 ],\n",
       "       [ 0.46898429,  0.53101571],\n",
       "       [ 0.75496017,  0.24503983],\n",
       "       [ 0.81559243,  0.18440757],\n",
       "       [ 0.90423449,  0.09576551],\n",
       "       [ 0.59319814,  0.40680186],\n",
       "       [ 0.41371892,  0.58628108],\n",
       "       [ 0.48281658,  0.51718342],\n",
       "       [ 0.34793954,  0.65206046],\n",
       "       [ 0.72582967,  0.27417033],\n",
       "       [ 0.7018633 ,  0.2981367 ],\n",
       "       [ 0.8926504 ,  0.1073496 ],\n",
       "       [ 0.80263236,  0.19736764],\n",
       "       [ 0.55785906,  0.44214094]])"
      ]
     },
     "execution_count": 25,
     "metadata": {},
     "output_type": "execute_result"
    }
   ],
   "source": [
    "# 1st element is probability for negative class,\n",
    "# 2nd element gives probability for positive class\n",
    "probs"
   ]
  },
  {
   "cell_type": "code",
   "execution_count": 28,
   "metadata": {},
   "outputs": [
    {
     "name": "stdout",
     "output_type": "stream",
     "text": [
      "[ True False False False False False False  True False False False  True\n",
      " False False False False  True False False False False False False False\n",
      " False False False  True False False False False False False False False\n",
      " False False False False False False False  True  True False False False\n",
      " False False False False  True False False False False False False False\n",
      " False False False  True False  True False False False False False False\n",
      " False  True  True False False False False False False False False False\n",
      " False False False False  True False False False False False False False\n",
      " False False False False False False False False False False False False\n",
      " False  True False False False False False False False False False False\n",
      " False False False False False False False False False False False False\n",
      " False False False False False False  True False False False False False\n",
      " False False False False False False False False False False False False\n",
      " False False False  True False  True False False  True False False False\n",
      " False False False False False False False False False False False False\n",
      " False False False  True False False False False False False False False\n",
      " False False False  True False False False False False False False False\n",
      " False False False False False False False False False False False False\n",
      " False False False False False False False False False False False False\n",
      " False False False]\n"
     ]
    }
   ],
   "source": [
    "#probability for positive class\n",
    "y_pred_prob = probs[:, 1]\n"
   ]
  },
  {
   "cell_type": "code",
   "execution_count": 31,
   "metadata": {},
   "outputs": [
    {
     "name": "stdout",
     "output_type": "stream",
     "text": [
      "Accuracy:  0.78354978355\n"
     ]
    }
   ],
   "source": [
    "# generate evaluation metrics\n",
    "print(\"Accuracy: \", metrics.accuracy_score(y_test, y_pred))"
   ]
  },
  {
   "cell_type": "code",
   "execution_count": 34,
   "metadata": {},
   "outputs": [
    {
     "name": "stdout",
     "output_type": "stream",
     "text": [
      "Area under the ROC curve : 0.838612\n"
     ]
    }
   ],
   "source": [
    "# extract false positive, true positive rate\n",
    "fpr, tpr,thresholds = metrics.roc_curve(y_test, y_pred_prob)\n",
    "roc_auc = metrics.auc(fpr, tpr)\n",
    "print(\"Area under the ROC curve : %f\" % roc_auc)"
   ]
  },
  {
   "cell_type": "code",
   "execution_count": 54,
   "metadata": {},
   "outputs": [
    {
     "name": "stdout",
     "output_type": "stream",
     "text": [
      "        1-fpr       fpr       tpr\n",
      "0    1.000000  0.000000  0.005155\n",
      "1    1.000000  0.000000  0.030928\n",
      "2    0.997085  0.002915  0.030928\n",
      "3    0.997085  0.002915  0.072165\n",
      "4    0.994169  0.005831  0.072165\n",
      "5    0.994169  0.005831  0.077320\n",
      "6    0.991254  0.008746  0.077320\n",
      "7    0.991254  0.008746  0.190722\n",
      "8    0.988338  0.011662  0.190722\n",
      "9    0.988338  0.011662  0.206186\n",
      "10   0.985423  0.014577  0.206186\n",
      "11   0.985423  0.014577  0.221649\n",
      "12   0.982507  0.017493  0.221649\n",
      "13   0.982507  0.017493  0.247423\n",
      "14   0.979592  0.020408  0.247423\n",
      "15   0.979592  0.020408  0.268041\n",
      "16   0.976676  0.023324  0.268041\n",
      "17   0.976676  0.023324  0.314433\n",
      "18   0.973761  0.026239  0.314433\n",
      "19   0.973761  0.026239  0.324742\n",
      "20   0.970845  0.029155  0.324742\n",
      "21   0.970845  0.029155  0.329897\n",
      "22   0.967930  0.032070  0.329897\n",
      "23   0.967930  0.032070  0.335052\n",
      "24   0.965015  0.034985  0.335052\n",
      "25   0.965015  0.034985  0.340206\n",
      "26   0.962099  0.037901  0.340206\n",
      "27   0.962099  0.037901  0.355670\n",
      "28   0.956268  0.043732  0.355670\n",
      "29   0.956268  0.043732  0.360825\n",
      "..        ...       ...       ...\n",
      "149  0.495627  0.504373  0.907216\n",
      "150  0.486880  0.513120  0.907216\n",
      "151  0.486880  0.513120  0.912371\n",
      "152  0.483965  0.516035  0.912371\n",
      "153  0.483965  0.516035  0.917526\n",
      "154  0.481050  0.518950  0.917526\n",
      "155  0.481050  0.518950  0.927835\n",
      "156  0.466472  0.533528  0.927835\n",
      "157  0.466472  0.533528  0.938144\n",
      "158  0.437318  0.562682  0.938144\n",
      "159  0.437318  0.562682  0.943299\n",
      "160  0.431487  0.568513  0.943299\n",
      "161  0.431487  0.568513  0.948454\n",
      "162  0.390671  0.609329  0.948454\n",
      "163  0.390671  0.609329  0.953608\n",
      "164  0.338192  0.661808  0.953608\n",
      "165  0.338192  0.661808  0.958763\n",
      "166  0.335277  0.664723  0.958763\n",
      "167  0.335277  0.664723  0.974227\n",
      "168  0.268222  0.731778  0.974227\n",
      "169  0.268222  0.731778  0.979381\n",
      "170  0.236152  0.763848  0.979381\n",
      "171  0.236152  0.763848  0.984536\n",
      "172  0.081633  0.918367  0.984536\n",
      "173  0.081633  0.918367  0.989691\n",
      "174  0.017493  0.982507  0.989691\n",
      "175  0.017493  0.982507  0.994845\n",
      "176  0.005831  0.994169  0.994845\n",
      "177  0.005831  0.994169  1.000000\n",
      "178  0.000000  1.000000  1.000000\n",
      "\n",
      "[179 rows x 3 columns]\n"
     ]
    }
   ],
   "source": [
    "i = np.arange(len(tpr)) # index for df\n",
    "roc = pd.DataFrame({'fpr' : pd.Series(fpr, index=i),'tpr' : pd.Series(tpr,\n",
    "index = i),'1-fpr' : pd.Series(1-fpr, index = i)})\n",
    "\n",
    "print(roc)"
   ]
  },
  {
   "cell_type": "code",
   "execution_count": 33,
   "metadata": {},
   "outputs": [
    {
     "data": {
      "image/png": "[encoded data removed]",
      "text/plain": [
       "<matplotlib.figure.Figure at 0x1abaaf8bb00>"
      ]
     },
     "metadata": {},
     "output_type": "display_data"
    }
   ],
   "source": [
    "# Plot tpr vs 1-fpr\n",
    "fig, ax = plt.subplots()\n",
    "plt.plot(roc['tpr'], label='tpr')\n",
    "plt.plot(roc['1-fpr'], color = 'red', label='1-fpr')\n",
    "plt.legend(loc='best')\n",
    "plt.xlabel('1-False Positive Rate')\n",
    "plt.ylabel('True Positive Rate')\n",
    "plt.title('Receiver operating characteristic')\n",
    "plt.show()"
   ]
  },
  {
   "cell_type": "code",
   "execution_count": 34,
   "metadata": {
    "collapsed": true
   },
   "outputs": [],
   "source": [
    "#Which Error is Costly??\n"
   ]
  },
  {
   "cell_type": "markdown",
   "metadata": {},
   "source": [
    "# Rare Event or Imbalanced Dataset\n",
    "\n",
    "Providing an equal samples of positive and negative instances to the classification algorithm will result in an optimal result. Datasets that are highly skewed toward one or more classes have proven to be a challenge.\n",
    "\n",
    "Resampling is a common practice to address the imbalanced dataset issue.\n",
    "\n",
    "#Random under-sampling - Reduce majority class to match minority class count.\n",
    "\n",
    "#Random over-sampling - Increase minority class by randomly picking samples within minority class till counts of both class match.\n",
    "\n",
    "#Synthetic Minority Over-Sampling Technique (SMOTE) - Increase minority class by introducing synthetic examples through connecting all k (default = 5) minority class nearest neighbors using feature space similarity (Euclidean distance)."
   ]
  },
  {
   "cell_type": "markdown",
   "metadata": {},
   "source": [
    "# Bias and Variance\n",
    "A fundamental problem with supervised learning is the bias variance trade-off. Ideally a model should have two key characteristics.\n",
    "1. Sensitive enough to accurately capture the key patterns in the training dataset.\n",
    "2. It should be generalized enough to work well on any unseen datasets.\n",
    "Unfortunately, while trying to achieve the above-mentioned first point, there is an ample chance of over-fitting to noisy or unrepresentative training data points leading to a failure of generalizing the model. On the other hand, trying to generalize a model may result in failing to capture important regularities.\n",
    "\n",
    "### Bias\n",
    "If model accuracy is low on a training dataset as well as test dataset the model is said to be under-fitting or that the model has high bias. This means the model is not fitting the training dataset points well in regression or the decision boundary is not separating the classes well in classification; and two key reasons for bias are 1) not including the right features, and 2) not picking the correct order of polynomial degrees for model fitting.\n",
    "\n",
    "To solve an under-fitting issue or to reduced bias, try including more meaningful features and try to increase the model complexity by trying higher-order polynomial fittings.\n",
    "\n",
    "### Variance\n",
    "If a model is giving high accuracy on a training dataset, however on a test dataset the accuracy drops drastically, then the model is said to be over-fitting or a model that has high variance. The key reason for over-fitting is using higher-order polynomial degree (may not be required), which will fit decision boundary tools well to all data points including the noise of train dataset, instead of the underlying relationship. This will lead to a high accuracy (actual vs. predicted) in the train dataset and when applied to the test dataset, the prediction error will be high.\n",
    "To solve the over-fitting issue:\n",
    "\n",
    "#Try to reduce the number of features, that is, keep only the meaningful features.\n",
    "#Dimension reduction can eliminate noisy features, in turn, reducing the model variance.\n",
    "#Brining more data points to make training dataset large will also reduce variance.\n",
    "#Choosing right model parameters can help to reduce the bias and variance, for example.\n",
    "   #Using right regularization parameters can decrease variance in regression-based models.\n",
    "   #For a decision tree reducing the depth of the decision tree will reduce the variance. "
   ]
  },
  {
   "cell_type": "markdown",
   "metadata": {},
   "source": [
    "# K-Fold Cross-Validation\n",
    "\n",
    "K-folds cross-validation splits the training dataset into k-folds without replacement, that is, any given data point will only be part of one of the subset, where k-1 folds are used for the model training and one fold is used for testing. The procedure is repeated k times so that we obtain k models and performance estimates."
   ]
  },
  {
   "cell_type": "code",
   "execution_count": 45,
   "metadata": {
    "collapsed": true
   },
   "outputs": [],
   "source": [
    "from sklearn.cross_validation import cross_val_score\n",
    "\n",
    "df = pd.read_csv(\"diabetes.csv\")\n",
    "\n",
    "X = df.iloc[:,:8].values # independent variables\n",
    "y = df['Class'].values # dependent variables"
   ]
  },
  {
   "cell_type": "code",
   "execution_count": 48,
   "metadata": {
    "collapsed": true
   },
   "outputs": [],
   "source": [
    "# Normalize Data\n",
    "from sklearn import preprocessing\n",
    "sc = preprocessing.StandardScaler()\n",
    "sc.fit(X)\n",
    "X = sc.transform(X)"
   ]
  },
  {
   "cell_type": "code",
   "execution_count": 49,
   "metadata": {
    "collapsed": true
   },
   "outputs": [],
   "source": [
    "# evaluate the model by splitting into train and test sets\n",
    "X_train, X_test, y_train, y_test = train_test_split(X, y, test_size=0.3,random_state=2017)"
   ]
  },
  {
   "cell_type": "code",
   "execution_count": 50,
   "metadata": {
    "collapsed": true
   },
   "outputs": [],
   "source": [
    "# build a decision tree classifier\n",
    "from sklearn import tree\n",
    "from sklearn import metrics\n",
    "from sklearn.cross_validation import train_test_split\n",
    "clf = tree.DecisionTreeClassifier(random_state=2017)"
   ]
  },
  {
   "cell_type": "code",
   "execution_count": 51,
   "metadata": {},
   "outputs": [
    {
     "name": "stdout",
     "output_type": "stream",
     "text": [
      "Train Fold AUC Scores:  [ 0.7037037   0.63888889  0.65420561  0.6635514   0.71028037]\n",
      "Train CV AUC Score:  0.674125995154\n"
     ]
    }
   ],
   "source": [
    "# evaluate the model using 10-fold cross-validation\n",
    "train_scores = cross_val_score(clf, X_train, y_train, scoring='accuracy', cv=5)\n",
    "test_scores = cross_val_score(clf, X_test, y_test, scoring='accuracy', cv=5)\n",
    "print(\"Train Fold AUC Scores: \", train_scores)\n",
    "print(\"Train CV AUC Score: \", train_scores.mean())"
   ]
  },
  {
   "cell_type": "code",
   "execution_count": 53,
   "metadata": {},
   "outputs": [
    {
     "name": "stdout",
     "output_type": "stream",
     "text": [
      "\n",
      "Test Fold AUC Scores:  [ 0.70212766  0.74468085  0.74468085  0.64444444  0.66666667]\n",
      "Test CV AUC Score:  0.700520094563\n"
     ]
    }
   ],
   "source": [
    "print(\"\\nTest Fold AUC Scores: \", test_scores)\n",
    "print(\"Test CV AUC Score: \", test_scores.mean())"
   ]
  },
  {
   "cell_type": "markdown",
   "metadata": {},
   "source": [
    "# Stratified K-Fold Cross-Validation\n",
    "An extended cross-validation is the Stratified K-fold cross-validation, where the class proportions are preserved in each fold, leading to better\n",
    "bias and variance estimates"
   ]
  },
  {
   "cell_type": "markdown",
   "metadata": {},
   "source": [
    "# Ensemble Methods\n",
    "Ensemble methods enable combining multiple model scores into a single score to create a robust generalized model.\n",
    "At a high level there are two types of ensemble methods.\n",
    "1. Combine multiple models of similar type\n",
    "     #### Bagging (Bootstrap aggregation)\n",
    "        Bootstrap aggregation (also known as bagging) was proposed by Leo Breiman in 1994, which is a model aggregation technique to reduce model variance. The training data is split into multiple samples with replacements called bootstrap samples. Bootstrap sample size will be the same as the original sample size, with 3/4th of the original values and replacement result in repetition of values\n",
    "     \n",
    "         Independent models on each of the bootstrap samples are built, and the average of the predictions for regression or majority vote for classification is used to create the final model.\n",
    " \n",
    "         Random Forest\n",
    "         \n",
    "     #### Boosting\n",
    "         The core concept of boosting is that rather than an independent individual hypothesis, combining hypotheses in a sequential order increases the accuracy. Essentially, boosting algorithms convert the weak learners into strong learners. Boosting algorithms are well designed to address the bias problems.\n",
    "         \n",
    "         At a high level the AdaBoosting (adaptive boosting) process can be divided into three steps.\n",
    "         1. Assign uniform weights for all data points W0(x) = 1 / N, where N is the total number of training data points.\n",
    "         2. At each iteration fit a classifier ym(xn) to the training data and update weights to minimize the weighted error function.\n",
    "         3. The final model.\n",
    "         \n",
    "         \n",
    "         \n"
   ]
  },
  {
   "cell_type": "code",
   "execution_count": null,
   "metadata": {
    "collapsed": true
   },
   "outputs": [],
   "source": []
  },
  {
   "cell_type": "code",
   "execution_count": null,
   "metadata": {
    "collapsed": true
   },
   "outputs": [],
   "source": []
  }
 ],
 "metadata": {
  "kernelspec": {
   "display_name": "Python 3",
   "language": "python",
   "name": "python3"
  },
  "language_info": {
   "codemirror_mode": {
    "name": "ipython",
    "version": 3
   },
   "file_extension": ".py",
   "mimetype": "text/x-python",
   "name": "python",
   "nbconvert_exporter": "python",
   "pygments_lexer": "ipython3",
   "version": "3.6.3"
  }
 },
 "nbformat": 4,
 "nbformat_minor": 2
}
