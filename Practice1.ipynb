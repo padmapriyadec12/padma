{
 "cells": [
  {
   "cell_type": "code",
   "execution_count": 3,
   "metadata": {},
   "outputs": [
    {
     "data": {
      "text/plain": [
       "\"{'Employee_ID': 1, 'Emp_Name': 'ABC', 'Profession': 'Developer'}\""
      ]
     },
     "execution_count": 3,
     "metadata": {},
     "output_type": "execute_result"
    }
   ],
   "source": [
    "##\n",
    "Employee1 = {'Employee_ID':1,'Emp_Name':\"ABC\",\n",
    "             'Profession':\"Developer\"}\n",
    "Employee2 = {'Employee_ID':2,'Emp_Name':\"XYZ\"\n",
    "             ,'Profession':\"Tester\"}\n",
    "str(Employee1)"
   ]
  },
  {
   "cell_type": "code",
   "execution_count": null,
   "metadata": {
    "collapsed": true
   },
   "outputs": [],
   "source": []
  },
  {
   "cell_type": "code",
   "execution_count": 14,
   "metadata": {},
   "outputs": [
    {
     "name": "stdout",
     "output_type": "stream",
     "text": [
      "inside if statment\n",
      "outside stat\n"
     ]
    }
   ],
   "source": [
    "a=10\n",
    "if a==10:\n",
    "    print(\"inside if statment\")\n",
    "print(\"outside stat\")"
   ]
  },
  {
   "cell_type": "code",
   "execution_count": 17,
   "metadata": {},
   "outputs": [
    {
     "name": "stdout",
     "output_type": "stream",
     "text": [
      "a is 5\n"
     ]
    }
   ],
   "source": [
    "if a==5:\n",
    "    print(\"a is 5\")\n",
    "else:\n",
    "    print(\"a is not 5\")\n"
   ]
  },
  {
   "cell_type": "code",
   "execution_count": 26,
   "metadata": {},
   "outputs": [
    {
     "name": "stdout",
     "output_type": "stream",
     "text": [
      "hi@hello\n"
     ]
    }
   ],
   "source": [
    "print(\"hi\",end=\"@\")\n",
    "print(\"hello\")"
   ]
  },
  {
   "cell_type": "code",
   "execution_count": 29,
   "metadata": {},
   "outputs": [
    {
     "data": {
      "text/plain": [
       "0"
      ]
     },
     "execution_count": 29,
     "metadata": {},
     "output_type": "execute_result"
    }
   ],
   "source": [
    "123456//10\n",
    "10%2"
   ]
  },
  {
   "cell_type": "code",
   "execution_count": 25,
   "metadata": {},
   "outputs": [
    {
     "ename": "SyntaxError",
     "evalue": "invalid syntax (<ipython-input-25-e0e35e4ae499>, line 3)",
     "output_type": "error",
     "traceback": [
      "\u001b[1;36m  File \u001b[1;32m\"<ipython-input-25-e0e35e4ae499>\"\u001b[1;36m, line \u001b[1;32m3\u001b[0m\n\u001b[1;33m    for j in range(0,i+1)\u001b[0m\n\u001b[1;37m                         ^\u001b[0m\n\u001b[1;31mSyntaxError\u001b[0m\u001b[1;31m:\u001b[0m invalid syntax\n"
     ]
    }
   ],
   "source": [
    "n=5\n",
    "for n in range(0,n):\n",
    "    for j in range(0,i+1)\n",
    "    \n",
    "\n"
   ]
  },
  {
   "cell_type": "code",
   "execution_count": null,
   "metadata": {
    "collapsed": true
   },
   "outputs": [],
   "source": [
    "c=0\n",
    "while(c<5):\n",
    "    print(c)\n",
    "    c += 1\n",
    "else:\n",
    "    print(\"C VALUE REACHED\")"
   ]
  },
  {
   "cell_type": "code",
   "execution_count": null,
   "metadata": {
    "collapsed": true
   },
   "outputs": [],
   "source": [
    "for a range from (1,6):\n",
    "    print(num)"
   ]
  },
  {
   "cell_type": "code",
   "execution_count": 1,
   "metadata": {},
   "outputs": [
    {
     "name": "stdout",
     "output_type": "stream",
     "text": [
      "156 µs ± 3.66 µs per loop (mean ± std. dev. of 7 runs, 10000 loops each)\n"
     ]
    }
   ],
   "source": [
    "import numpy as np\n",
    "big_array=np.random.randint(1,100,size=100000)\n",
    "%timeit(1.0/big_array)"
   ]
  },
  {
   "cell_type": "code",
   "execution_count": 8,
   "metadata": {},
   "outputs": [
    {
     "name": "stdout",
     "output_type": "stream",
     "text": [
      "[0 1 2 3 4]\n",
      "[0 2 4 6 8]\n",
      "[ 0  1  4  9 16]\n",
      "[0 1 0 1 0]\n"
     ]
    }
   ],
   "source": [
    "import numpy as np\n",
    "x=np.arange(5)\n",
    "print(x)\n",
    "print(x*2)##multiplication\n",
    "print(x**2)##power\n",
    "print(x%2)##reminder"
   ]
  },
  {
   "cell_type": "code",
   "execution_count": null,
   "metadata": {
    "collapsed": true
   },
   "outputs": [],
   "source": []
  }
 ],
 "metadata": {
  "kernelspec": {
   "display_name": "Python 3",
   "language": "python",
   "name": "python3"
  },
  "language_info": {
   "codemirror_mode": {
    "name": "ipython",
    "version": 3
   },
   "file_extension": ".py",
   "mimetype": "text/x-python",
   "name": "python",
   "nbconvert_exporter": "python",
   "pygments_lexer": "ipython3",
   "version": "3.6.3"
  }
 },
 "nbformat": 4,
 "nbformat_minor": 2
}
