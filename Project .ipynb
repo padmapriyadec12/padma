{
 "cells": [
  {
   "cell_type": "code",
   "execution_count": 1,
   "metadata": {
    "collapsed": true
   },
   "outputs": [],
   "source": [
    "import numpy as np\n",
    "import pandas as pd\n",
    "import scipy.stats as stats\n",
    "import matplotlib.pyplot as plt\n",
    "import sklearn\n",
    "from sklearn import neighbors,preprocessing"
   ]
  },
  {
   "cell_type": "markdown",
   "metadata": {},
   "source": [
    "## Importing data"
   ]
  },
  {
   "cell_type": "code",
   "execution_count": 2,
   "metadata": {},
   "outputs": [
    {
     "data": {
      "text/html": [
       "<div>\n",
       "<style>\n",
       "    .dataframe thead tr:only-child th {\n",
       "        text-align: right;\n",
       "    }\n",
       "\n",
       "    .dataframe thead th {\n",
       "        text-align: left;\n",
       "    }\n",
       "\n",
       "    .dataframe tbody tr th {\n",
       "        vertical-align: top;\n",
       "    }\n",
       "</style>\n",
       "<table border=\"1\" class=\"dataframe\">\n",
       "  <thead>\n",
       "    <tr style=\"text-align: right;\">\n",
       "      <th></th>\n",
       "      <th>id</th>\n",
       "      <th>release</th>\n",
       "      <th>n_0000</th>\n",
       "      <th>n_0001</th>\n",
       "      <th>n_0002</th>\n",
       "      <th>n_0003</th>\n",
       "      <th>n_0004</th>\n",
       "      <th>n_0005</th>\n",
       "      <th>n_0006</th>\n",
       "      <th>n_0007</th>\n",
       "      <th>...</th>\n",
       "      <th>c_1368</th>\n",
       "      <th>c_1369</th>\n",
       "      <th>c_1370</th>\n",
       "      <th>c_1371</th>\n",
       "      <th>c_1372</th>\n",
       "      <th>c_1373</th>\n",
       "      <th>c_1374</th>\n",
       "      <th>c_1375</th>\n",
       "      <th>c_1376</th>\n",
       "      <th>c_1377</th>\n",
       "    </tr>\n",
       "  </thead>\n",
       "  <tbody>\n",
       "    <tr>\n",
       "      <th>0</th>\n",
       "      <td>11193</td>\n",
       "      <td>a</td>\n",
       "      <td>NaN</td>\n",
       "      <td>NaN</td>\n",
       "      <td>0.025449</td>\n",
       "      <td>NaN</td>\n",
       "      <td>NaN</td>\n",
       "      <td>0.368421</td>\n",
       "      <td>NaN</td>\n",
       "      <td>NaN</td>\n",
       "      <td>...</td>\n",
       "      <td>NaN</td>\n",
       "      <td>NaN</td>\n",
       "      <td>NaN</td>\n",
       "      <td>NaN</td>\n",
       "      <td>a</td>\n",
       "      <td>NaN</td>\n",
       "      <td>q</td>\n",
       "      <td>NaN</td>\n",
       "      <td>NaN</td>\n",
       "      <td>NaN</td>\n",
       "    </tr>\n",
       "    <tr>\n",
       "      <th>1</th>\n",
       "      <td>11382</td>\n",
       "      <td>a</td>\n",
       "      <td>NaN</td>\n",
       "      <td>NaN</td>\n",
       "      <td>0.031297</td>\n",
       "      <td>NaN</td>\n",
       "      <td>NaN</td>\n",
       "      <td>0.315789</td>\n",
       "      <td>NaN</td>\n",
       "      <td>NaN</td>\n",
       "      <td>...</td>\n",
       "      <td>NaN</td>\n",
       "      <td>NaN</td>\n",
       "      <td>a</td>\n",
       "      <td>NaN</td>\n",
       "      <td>a</td>\n",
       "      <td>NaN</td>\n",
       "      <td>NaN</td>\n",
       "      <td>NaN</td>\n",
       "      <td>NaN</td>\n",
       "      <td>NaN</td>\n",
       "    </tr>\n",
       "    <tr>\n",
       "      <th>2</th>\n",
       "      <td>16531</td>\n",
       "      <td>a</td>\n",
       "      <td>NaN</td>\n",
       "      <td>NaN</td>\n",
       "      <td>0.024475</td>\n",
       "      <td>NaN</td>\n",
       "      <td>NaN</td>\n",
       "      <td>0.342105</td>\n",
       "      <td>NaN</td>\n",
       "      <td>NaN</td>\n",
       "      <td>...</td>\n",
       "      <td>NaN</td>\n",
       "      <td>NaN</td>\n",
       "      <td>a</td>\n",
       "      <td>NaN</td>\n",
       "      <td>a</td>\n",
       "      <td>NaN</td>\n",
       "      <td>b</td>\n",
       "      <td>NaN</td>\n",
       "      <td>NaN</td>\n",
       "      <td>NaN</td>\n",
       "    </tr>\n",
       "    <tr>\n",
       "      <th>3</th>\n",
       "      <td>1896</td>\n",
       "      <td>a</td>\n",
       "      <td>NaN</td>\n",
       "      <td>NaN</td>\n",
       "      <td>0.041694</td>\n",
       "      <td>NaN</td>\n",
       "      <td>NaN</td>\n",
       "      <td>0.447368</td>\n",
       "      <td>NaN</td>\n",
       "      <td>NaN</td>\n",
       "      <td>...</td>\n",
       "      <td>NaN</td>\n",
       "      <td>NaN</td>\n",
       "      <td>NaN</td>\n",
       "      <td>NaN</td>\n",
       "      <td>a</td>\n",
       "      <td>NaN</td>\n",
       "      <td>NaN</td>\n",
       "      <td>NaN</td>\n",
       "      <td>NaN</td>\n",
       "      <td>NaN</td>\n",
       "    </tr>\n",
       "    <tr>\n",
       "      <th>4</th>\n",
       "      <td>18262</td>\n",
       "      <td>c</td>\n",
       "      <td>NaN</td>\n",
       "      <td>NaN</td>\n",
       "      <td>0.038120</td>\n",
       "      <td>NaN</td>\n",
       "      <td>NaN</td>\n",
       "      <td>0.315789</td>\n",
       "      <td>NaN</td>\n",
       "      <td>NaN</td>\n",
       "      <td>...</td>\n",
       "      <td>NaN</td>\n",
       "      <td>NaN</td>\n",
       "      <td>b</td>\n",
       "      <td>NaN</td>\n",
       "      <td>a</td>\n",
       "      <td>NaN</td>\n",
       "      <td>a</td>\n",
       "      <td>NaN</td>\n",
       "      <td>NaN</td>\n",
       "      <td>NaN</td>\n",
       "    </tr>\n",
       "  </tbody>\n",
       "</table>\n",
       "<p>5 rows × 1379 columns</p>\n",
       "</div>"
      ],
      "text/plain": [
       "      id release  n_0000  n_0001    n_0002  n_0003  n_0004    n_0005  n_0006  \\\n",
       "0  11193       a     NaN     NaN  0.025449     NaN     NaN  0.368421     NaN   \n",
       "1  11382       a     NaN     NaN  0.031297     NaN     NaN  0.315789     NaN   \n",
       "2  16531       a     NaN     NaN  0.024475     NaN     NaN  0.342105     NaN   \n",
       "3   1896       a     NaN     NaN  0.041694     NaN     NaN  0.447368     NaN   \n",
       "4  18262       c     NaN     NaN  0.038120     NaN     NaN  0.315789     NaN   \n",
       "\n",
       "   n_0007   ...    c_1368  c_1369  c_1370  c_1371  c_1372  c_1373  c_1374  \\\n",
       "0     NaN   ...       NaN     NaN     NaN     NaN       a     NaN       q   \n",
       "1     NaN   ...       NaN     NaN       a     NaN       a     NaN     NaN   \n",
       "2     NaN   ...       NaN     NaN       a     NaN       a     NaN       b   \n",
       "3     NaN   ...       NaN     NaN     NaN     NaN       a     NaN     NaN   \n",
       "4     NaN   ...       NaN     NaN       b     NaN       a     NaN       a   \n",
       "\n",
       "   c_1375  c_1376  c_1377  \n",
       "0     NaN     NaN     NaN  \n",
       "1     NaN     NaN     NaN  \n",
       "2     NaN     NaN     NaN  \n",
       "3     NaN     NaN     NaN  \n",
       "4     NaN     NaN     NaN  \n",
       "\n",
       "[5 rows x 1379 columns]"
      ]
     },
     "execution_count": 2,
     "metadata": {},
     "output_type": "execute_result"
    }
   ],
   "source": [
    "# read the data \n",
    "train_data= pd.read_csv(\"D:\\\\Capstone project\\\\Capstone Project\\\\train Data.csv\",low_memory=False)\n",
    "#print(train_data.columns.values),low_memory=False\n",
    "train_data.head()"
   ]
  },
  {
   "cell_type": "code",
   "execution_count": 3,
   "metadata": {},
   "outputs": [
    {
     "data": {
      "text/plain": [
       "(14644, 1379)"
      ]
     },
     "execution_count": 3,
     "metadata": {},
     "output_type": "execute_result"
    }
   ],
   "source": [
    "train_data.shape"
   ]
  },
  {
   "cell_type": "code",
   "execution_count": 4,
   "metadata": {},
   "outputs": [
    {
     "data": {
      "text/plain": [
       "Index(['id', 'release', 'n_0000', 'n_0001', 'n_0002', 'n_0003', 'n_0004',\n",
       "       'n_0005', 'n_0006', 'n_0007',\n",
       "       ...\n",
       "       'c_1368', 'c_1369', 'c_1370', 'c_1371', 'c_1372', 'c_1373', 'c_1374',\n",
       "       'c_1375', 'c_1376', 'c_1377'],\n",
       "      dtype='object', length=1379)"
      ]
     },
     "execution_count": 4,
     "metadata": {},
     "output_type": "execute_result"
    }
   ],
   "source": [
    "train_data.columns"
   ]
  },
  {
   "cell_type": "markdown",
   "metadata": {},
   "source": [
    "## creating dataframe for missing values"
   ]
  },
  {
   "cell_type": "code",
   "execution_count": 5,
   "metadata": {
    "collapsed": true
   },
   "outputs": [],
   "source": [
    "missdf=pd.DataFrame({'cols':train_data.columns.values,\n",
    "                          'missing':list(train_data.isnull().sum())})"
   ]
  },
  {
   "cell_type": "code",
   "execution_count": 6,
   "metadata": {
    "collapsed": true
   },
   "outputs": [],
   "source": [
    "missdf['missingPerc'] = missdf.missing/train_data.shape[0]"
   ]
  },
  {
   "cell_type": "code",
   "execution_count": 7,
   "metadata": {},
   "outputs": [
    {
     "data": {
      "text/html": [
       "<div>\n",
       "<style>\n",
       "    .dataframe thead tr:only-child th {\n",
       "        text-align: right;\n",
       "    }\n",
       "\n",
       "    .dataframe thead th {\n",
       "        text-align: left;\n",
       "    }\n",
       "\n",
       "    .dataframe tbody tr th {\n",
       "        vertical-align: top;\n",
       "    }\n",
       "</style>\n",
       "<table border=\"1\" class=\"dataframe\">\n",
       "  <thead>\n",
       "    <tr style=\"text-align: right;\">\n",
       "      <th></th>\n",
       "      <th>cols</th>\n",
       "      <th>missing</th>\n",
       "      <th>missingPerc</th>\n",
       "    </tr>\n",
       "  </thead>\n",
       "  <tbody>\n",
       "    <tr>\n",
       "      <th>0</th>\n",
       "      <td>id</td>\n",
       "      <td>0</td>\n",
       "      <td>0.000000</td>\n",
       "    </tr>\n",
       "    <tr>\n",
       "      <th>1</th>\n",
       "      <td>release</td>\n",
       "      <td>0</td>\n",
       "      <td>0.000000</td>\n",
       "    </tr>\n",
       "    <tr>\n",
       "      <th>2</th>\n",
       "      <td>n_0000</td>\n",
       "      <td>14625</td>\n",
       "      <td>0.998703</td>\n",
       "    </tr>\n",
       "    <tr>\n",
       "      <th>3</th>\n",
       "      <td>n_0001</td>\n",
       "      <td>13884</td>\n",
       "      <td>0.948102</td>\n",
       "    </tr>\n",
       "    <tr>\n",
       "      <th>4</th>\n",
       "      <td>n_0002</td>\n",
       "      <td>644</td>\n",
       "      <td>0.043977</td>\n",
       "    </tr>\n",
       "  </tbody>\n",
       "</table>\n",
       "</div>"
      ],
      "text/plain": [
       "      cols  missing  missingPerc\n",
       "0       id        0     0.000000\n",
       "1  release        0     0.000000\n",
       "2   n_0000    14625     0.998703\n",
       "3   n_0001    13884     0.948102\n",
       "4   n_0002      644     0.043977"
      ]
     },
     "execution_count": 7,
     "metadata": {},
     "output_type": "execute_result"
    }
   ],
   "source": [
    "missdf.head()"
   ]
  },
  {
   "cell_type": "code",
   "execution_count": 8,
   "metadata": {
    "collapsed": true
   },
   "outputs": [],
   "source": [
    "#percentage of missing data\n",
    "train_data1=pd.DataFrame(train_data[missdf[missdf['missingPerc']<0.8]['cols']])"
   ]
  },
  {
   "cell_type": "code",
   "execution_count": 9,
   "metadata": {},
   "outputs": [
    {
     "name": "stdout",
     "output_type": "stream",
     "text": [
      "<class 'pandas.core.frame.DataFrame'>\n",
      "RangeIndex: 14644 entries, 0 to 14643\n",
      "Columns: 341 entries, id to c_1377\n",
      "dtypes: float64(63), int64(9), object(269)\n",
      "memory usage: 38.1+ MB\n"
     ]
    }
   ],
   "source": [
    "train_data1.info()"
   ]
  },
  {
   "cell_type": "markdown",
   "metadata": {},
   "source": [
    "## Train data after removal of null columns"
   ]
  },
  {
   "cell_type": "code",
   "execution_count": 10,
   "metadata": {},
   "outputs": [
    {
     "data": {
      "text/html": [
       "<div>\n",
       "<style>\n",
       "    .dataframe thead tr:only-child th {\n",
       "        text-align: right;\n",
       "    }\n",
       "\n",
       "    .dataframe thead th {\n",
       "        text-align: left;\n",
       "    }\n",
       "\n",
       "    .dataframe tbody tr th {\n",
       "        vertical-align: top;\n",
       "    }\n",
       "</style>\n",
       "<table border=\"1\" class=\"dataframe\">\n",
       "  <thead>\n",
       "    <tr style=\"text-align: right;\">\n",
       "      <th></th>\n",
       "      <th>id</th>\n",
       "      <th>release</th>\n",
       "      <th>n_0002</th>\n",
       "      <th>n_0005</th>\n",
       "      <th>n_0012</th>\n",
       "      <th>n_0019</th>\n",
       "      <th>n_0028</th>\n",
       "      <th>n_0034</th>\n",
       "      <th>n_0038</th>\n",
       "      <th>n_0039</th>\n",
       "      <th>...</th>\n",
       "      <th>c_1333</th>\n",
       "      <th>c_1335</th>\n",
       "      <th>c_1343</th>\n",
       "      <th>c_1347</th>\n",
       "      <th>c_1348</th>\n",
       "      <th>c_1361</th>\n",
       "      <th>c_1363</th>\n",
       "      <th>c_1372</th>\n",
       "      <th>c_1374</th>\n",
       "      <th>c_1377</th>\n",
       "    </tr>\n",
       "  </thead>\n",
       "  <tbody>\n",
       "    <tr>\n",
       "      <th>0</th>\n",
       "      <td>11193</td>\n",
       "      <td>a</td>\n",
       "      <td>0.025449</td>\n",
       "      <td>0.368421</td>\n",
       "      <td>0.292683</td>\n",
       "      <td>0.0</td>\n",
       "      <td>NaN</td>\n",
       "      <td>0.223881</td>\n",
       "      <td>0.193548</td>\n",
       "      <td>NaN</td>\n",
       "      <td>...</td>\n",
       "      <td>e</td>\n",
       "      <td>w</td>\n",
       "      <td>b</td>\n",
       "      <td>NaN</td>\n",
       "      <td>b</td>\n",
       "      <td>e</td>\n",
       "      <td>b</td>\n",
       "      <td>a</td>\n",
       "      <td>q</td>\n",
       "      <td>NaN</td>\n",
       "    </tr>\n",
       "    <tr>\n",
       "      <th>1</th>\n",
       "      <td>11382</td>\n",
       "      <td>a</td>\n",
       "      <td>0.031297</td>\n",
       "      <td>0.315789</td>\n",
       "      <td>0.243902</td>\n",
       "      <td>0.0</td>\n",
       "      <td>NaN</td>\n",
       "      <td>0.104478</td>\n",
       "      <td>0.177419</td>\n",
       "      <td>NaN</td>\n",
       "      <td>...</td>\n",
       "      <td>e</td>\n",
       "      <td>q</td>\n",
       "      <td>b</td>\n",
       "      <td>NaN</td>\n",
       "      <td>b</td>\n",
       "      <td>e</td>\n",
       "      <td>b</td>\n",
       "      <td>a</td>\n",
       "      <td>NaN</td>\n",
       "      <td>NaN</td>\n",
       "    </tr>\n",
       "    <tr>\n",
       "      <th>2</th>\n",
       "      <td>16531</td>\n",
       "      <td>a</td>\n",
       "      <td>0.024475</td>\n",
       "      <td>0.342105</td>\n",
       "      <td>0.304878</td>\n",
       "      <td>0.0</td>\n",
       "      <td>NaN</td>\n",
       "      <td>0.119403</td>\n",
       "      <td>0.290323</td>\n",
       "      <td>NaN</td>\n",
       "      <td>...</td>\n",
       "      <td>e</td>\n",
       "      <td>u</td>\n",
       "      <td>a</td>\n",
       "      <td>NaN</td>\n",
       "      <td>b</td>\n",
       "      <td>c</td>\n",
       "      <td>a</td>\n",
       "      <td>a</td>\n",
       "      <td>b</td>\n",
       "      <td>NaN</td>\n",
       "    </tr>\n",
       "    <tr>\n",
       "      <th>3</th>\n",
       "      <td>1896</td>\n",
       "      <td>a</td>\n",
       "      <td>0.041694</td>\n",
       "      <td>0.447368</td>\n",
       "      <td>0.207317</td>\n",
       "      <td>0.0</td>\n",
       "      <td>NaN</td>\n",
       "      <td>0.149254</td>\n",
       "      <td>0.370968</td>\n",
       "      <td>NaN</td>\n",
       "      <td>...</td>\n",
       "      <td>NaN</td>\n",
       "      <td>w</td>\n",
       "      <td>a</td>\n",
       "      <td>NaN</td>\n",
       "      <td>b</td>\n",
       "      <td>g</td>\n",
       "      <td>a</td>\n",
       "      <td>a</td>\n",
       "      <td>NaN</td>\n",
       "      <td>NaN</td>\n",
       "    </tr>\n",
       "    <tr>\n",
       "      <th>4</th>\n",
       "      <td>18262</td>\n",
       "      <td>c</td>\n",
       "      <td>0.038120</td>\n",
       "      <td>0.315789</td>\n",
       "      <td>0.219512</td>\n",
       "      <td>0.0</td>\n",
       "      <td>NaN</td>\n",
       "      <td>0.074627</td>\n",
       "      <td>0.177419</td>\n",
       "      <td>0.3125</td>\n",
       "      <td>...</td>\n",
       "      <td>e</td>\n",
       "      <td>b</td>\n",
       "      <td>b</td>\n",
       "      <td>d</td>\n",
       "      <td>b</td>\n",
       "      <td>e</td>\n",
       "      <td>b</td>\n",
       "      <td>a</td>\n",
       "      <td>a</td>\n",
       "      <td>NaN</td>\n",
       "    </tr>\n",
       "  </tbody>\n",
       "</table>\n",
       "<p>5 rows × 341 columns</p>\n",
       "</div>"
      ],
      "text/plain": [
       "      id release    n_0002    n_0005    n_0012  n_0019  n_0028    n_0034  \\\n",
       "0  11193       a  0.025449  0.368421  0.292683     0.0     NaN  0.223881   \n",
       "1  11382       a  0.031297  0.315789  0.243902     0.0     NaN  0.104478   \n",
       "2  16531       a  0.024475  0.342105  0.304878     0.0     NaN  0.119403   \n",
       "3   1896       a  0.041694  0.447368  0.207317     0.0     NaN  0.149254   \n",
       "4  18262       c  0.038120  0.315789  0.219512     0.0     NaN  0.074627   \n",
       "\n",
       "     n_0038  n_0039   ...    c_1333  c_1335  c_1343  c_1347  c_1348  c_1361  \\\n",
       "0  0.193548     NaN   ...         e       w       b     NaN       b       e   \n",
       "1  0.177419     NaN   ...         e       q       b     NaN       b       e   \n",
       "2  0.290323     NaN   ...         e       u       a     NaN       b       c   \n",
       "3  0.370968     NaN   ...       NaN       w       a     NaN       b       g   \n",
       "4  0.177419  0.3125   ...         e       b       b       d       b       e   \n",
       "\n",
       "   c_1363  c_1372  c_1374  c_1377  \n",
       "0       b       a       q     NaN  \n",
       "1       b       a     NaN     NaN  \n",
       "2       a       a       b     NaN  \n",
       "3       a       a     NaN     NaN  \n",
       "4       b       a       a     NaN  \n",
       "\n",
       "[5 rows x 341 columns]"
      ]
     },
     "execution_count": 10,
     "metadata": {},
     "output_type": "execute_result"
    }
   ],
   "source": [
    "train_data1.head()"
   ]
  },
  {
   "cell_type": "code",
   "execution_count": 11,
   "metadata": {
    "collapsed": true
   },
   "outputs": [],
   "source": [
    "#cols=train_data1.columns\n",
    "cols=train_data1.columns\n"
   ]
  },
  {
   "cell_type": "markdown",
   "metadata": {},
   "source": [
    " ## Data of Numerical columns "
   ]
  },
  {
   "cell_type": "code",
   "execution_count": 12,
   "metadata": {},
   "outputs": [
    {
     "data": {
      "text/html": [
       "<div>\n",
       "<style>\n",
       "    .dataframe thead tr:only-child th {\n",
       "        text-align: right;\n",
       "    }\n",
       "\n",
       "    .dataframe thead th {\n",
       "        text-align: left;\n",
       "    }\n",
       "\n",
       "    .dataframe tbody tr th {\n",
       "        vertical-align: top;\n",
       "    }\n",
       "</style>\n",
       "<table border=\"1\" class=\"dataframe\">\n",
       "  <thead>\n",
       "    <tr style=\"text-align: right;\">\n",
       "      <th></th>\n",
       "      <th>id</th>\n",
       "      <th>n_0002</th>\n",
       "      <th>n_0005</th>\n",
       "      <th>n_0012</th>\n",
       "      <th>n_0019</th>\n",
       "      <th>n_0028</th>\n",
       "      <th>n_0034</th>\n",
       "      <th>n_0038</th>\n",
       "      <th>n_0039</th>\n",
       "      <th>n_0047</th>\n",
       "      <th>...</th>\n",
       "      <th>o_0270</th>\n",
       "      <th>o_0274</th>\n",
       "      <th>o_0276</th>\n",
       "      <th>o_0279</th>\n",
       "      <th>o_0285</th>\n",
       "      <th>o_0286</th>\n",
       "      <th>o_0301</th>\n",
       "      <th>o_0314</th>\n",
       "      <th>o_0315</th>\n",
       "      <th>o_0323</th>\n",
       "    </tr>\n",
       "  </thead>\n",
       "  <tbody>\n",
       "    <tr>\n",
       "      <th>0</th>\n",
       "      <td>11193</td>\n",
       "      <td>0.025449</td>\n",
       "      <td>0.368421</td>\n",
       "      <td>0.292683</td>\n",
       "      <td>0.0</td>\n",
       "      <td>NaN</td>\n",
       "      <td>0.223881</td>\n",
       "      <td>0.193548</td>\n",
       "      <td>NaN</td>\n",
       "      <td>1</td>\n",
       "      <td>...</td>\n",
       "      <td>NaN</td>\n",
       "      <td>27.0</td>\n",
       "      <td>NaN</td>\n",
       "      <td>10.0</td>\n",
       "      <td>NaN</td>\n",
       "      <td>15.0</td>\n",
       "      <td>12.0</td>\n",
       "      <td>NaN</td>\n",
       "      <td>0.0</td>\n",
       "      <td>NaN</td>\n",
       "    </tr>\n",
       "    <tr>\n",
       "      <th>1</th>\n",
       "      <td>11382</td>\n",
       "      <td>0.031297</td>\n",
       "      <td>0.315789</td>\n",
       "      <td>0.243902</td>\n",
       "      <td>0.0</td>\n",
       "      <td>NaN</td>\n",
       "      <td>0.104478</td>\n",
       "      <td>0.177419</td>\n",
       "      <td>NaN</td>\n",
       "      <td>1</td>\n",
       "      <td>...</td>\n",
       "      <td>6.0</td>\n",
       "      <td>33.0</td>\n",
       "      <td>NaN</td>\n",
       "      <td>14.0</td>\n",
       "      <td>NaN</td>\n",
       "      <td>14.0</td>\n",
       "      <td>10.0</td>\n",
       "      <td>NaN</td>\n",
       "      <td>0.0</td>\n",
       "      <td>NaN</td>\n",
       "    </tr>\n",
       "    <tr>\n",
       "      <th>2</th>\n",
       "      <td>16531</td>\n",
       "      <td>0.024475</td>\n",
       "      <td>0.342105</td>\n",
       "      <td>0.304878</td>\n",
       "      <td>0.0</td>\n",
       "      <td>NaN</td>\n",
       "      <td>0.119403</td>\n",
       "      <td>0.290323</td>\n",
       "      <td>NaN</td>\n",
       "      <td>1</td>\n",
       "      <td>...</td>\n",
       "      <td>3.0</td>\n",
       "      <td>23.0</td>\n",
       "      <td>NaN</td>\n",
       "      <td>32.0</td>\n",
       "      <td>NaN</td>\n",
       "      <td>5.0</td>\n",
       "      <td>6.0</td>\n",
       "      <td>NaN</td>\n",
       "      <td>NaN</td>\n",
       "      <td>NaN</td>\n",
       "    </tr>\n",
       "    <tr>\n",
       "      <th>3</th>\n",
       "      <td>1896</td>\n",
       "      <td>0.041694</td>\n",
       "      <td>0.447368</td>\n",
       "      <td>0.207317</td>\n",
       "      <td>0.0</td>\n",
       "      <td>NaN</td>\n",
       "      <td>0.149254</td>\n",
       "      <td>0.370968</td>\n",
       "      <td>NaN</td>\n",
       "      <td>1</td>\n",
       "      <td>...</td>\n",
       "      <td>6.0</td>\n",
       "      <td>46.0</td>\n",
       "      <td>NaN</td>\n",
       "      <td>NaN</td>\n",
       "      <td>NaN</td>\n",
       "      <td>30.0</td>\n",
       "      <td>8.0</td>\n",
       "      <td>NaN</td>\n",
       "      <td>0.0</td>\n",
       "      <td>NaN</td>\n",
       "    </tr>\n",
       "    <tr>\n",
       "      <th>4</th>\n",
       "      <td>18262</td>\n",
       "      <td>0.038120</td>\n",
       "      <td>0.315789</td>\n",
       "      <td>0.219512</td>\n",
       "      <td>0.0</td>\n",
       "      <td>NaN</td>\n",
       "      <td>0.074627</td>\n",
       "      <td>0.177419</td>\n",
       "      <td>0.3125</td>\n",
       "      <td>1</td>\n",
       "      <td>...</td>\n",
       "      <td>9.0</td>\n",
       "      <td>40.0</td>\n",
       "      <td>NaN</td>\n",
       "      <td>20.0</td>\n",
       "      <td>NaN</td>\n",
       "      <td>19.0</td>\n",
       "      <td>13.0</td>\n",
       "      <td>0.0</td>\n",
       "      <td>0.0</td>\n",
       "      <td>0.0</td>\n",
       "    </tr>\n",
       "  </tbody>\n",
       "</table>\n",
       "<p>5 rows × 72 columns</p>\n",
       "</div>"
      ],
      "text/plain": [
       "      id    n_0002    n_0005    n_0012  n_0019  n_0028    n_0034    n_0038  \\\n",
       "0  11193  0.025449  0.368421  0.292683     0.0     NaN  0.223881  0.193548   \n",
       "1  11382  0.031297  0.315789  0.243902     0.0     NaN  0.104478  0.177419   \n",
       "2  16531  0.024475  0.342105  0.304878     0.0     NaN  0.119403  0.290323   \n",
       "3   1896  0.041694  0.447368  0.207317     0.0     NaN  0.149254  0.370968   \n",
       "4  18262  0.038120  0.315789  0.219512     0.0     NaN  0.074627  0.177419   \n",
       "\n",
       "   n_0039  n_0047   ...    o_0270  o_0274  o_0276  o_0279  o_0285  o_0286  \\\n",
       "0     NaN       1   ...       NaN    27.0     NaN    10.0     NaN    15.0   \n",
       "1     NaN       1   ...       6.0    33.0     NaN    14.0     NaN    14.0   \n",
       "2     NaN       1   ...       3.0    23.0     NaN    32.0     NaN     5.0   \n",
       "3     NaN       1   ...       6.0    46.0     NaN     NaN     NaN    30.0   \n",
       "4  0.3125       1   ...       9.0    40.0     NaN    20.0     NaN    19.0   \n",
       "\n",
       "   o_0301  o_0314  o_0315  o_0323  \n",
       "0    12.0     NaN     0.0     NaN  \n",
       "1    10.0     NaN     0.0     NaN  \n",
       "2     6.0     NaN     NaN     NaN  \n",
       "3     8.0     NaN     0.0     NaN  \n",
       "4    13.0     0.0     0.0     0.0  \n",
       "\n",
       "[5 rows x 72 columns]"
      ]
     },
     "execution_count": 12,
     "metadata": {},
     "output_type": "execute_result"
    }
   ],
   "source": [
    "#train_data1.select_dtypes(exclude=['object'])\n",
    "num_cols=pd.DataFrame(train_data1.select_dtypes(include=['number']))\n",
    "num_cols.head()\n",
    "#train_data1.select_dtypes(include=['number']).head()\n"
   ]
  },
  {
   "cell_type": "code",
   "execution_count": 13,
   "metadata": {},
   "outputs": [
    {
     "data": {
      "text/plain": [
       "Index(['id', 'n_0002', 'n_0005', 'n_0012', 'n_0019', 'n_0028', 'n_0034',\n",
       "       'n_0038', 'n_0039', 'n_0047', 'n_0048', 'n_0050', 'n_0051', 'n_0052',\n",
       "       'n_0059', 'n_0060', 'n_0061', 'n_0064', 'n_0066', 'n_0067', 'n_0071',\n",
       "       'n_0074', 'n_0075', 'n_0078', 'n_0083', 'n_0086', 'n_0091', 'n_0095',\n",
       "       'n_0099', 'n_0100', 'n_0102', 'n_0108', 'n_0109', 'n_0110', 'o_0120',\n",
       "       'o_0125', 'o_0129', 'o_0132', 'o_0141', 'o_0144', 'o_0147', 'o_0152',\n",
       "       'o_0153', 'o_0154', 'o_0157', 'o_0168', 'o_0175', 'o_0176', 'o_0179',\n",
       "       'o_0201', 'o_0202', 'o_0208', 'o_0217', 'o_0221', 'o_0223', 'o_0230',\n",
       "       'o_0231', 'o_0241', 'o_0248', 'o_0264', 'o_0265', 'o_0268', 'o_0270',\n",
       "       'o_0274', 'o_0276', 'o_0279', 'o_0285', 'o_0286', 'o_0301', 'o_0314',\n",
       "       'o_0315', 'o_0323'],\n",
       "      dtype='object')"
      ]
     },
     "execution_count": 13,
     "metadata": {},
     "output_type": "execute_result"
    }
   ],
   "source": [
    "num_cols.columns"
   ]
  },
  {
   "cell_type": "markdown",
   "metadata": {},
   "source": [
    "## Imputing missing values of numerical data"
   ]
  },
  {
   "cell_type": "code",
   "execution_count": 14,
   "metadata": {},
   "outputs": [
    {
     "data": {
      "text/html": [
       "<div>\n",
       "<style>\n",
       "    .dataframe thead tr:only-child th {\n",
       "        text-align: right;\n",
       "    }\n",
       "\n",
       "    .dataframe thead th {\n",
       "        text-align: left;\n",
       "    }\n",
       "\n",
       "    .dataframe tbody tr th {\n",
       "        vertical-align: top;\n",
       "    }\n",
       "</style>\n",
       "<table border=\"1\" class=\"dataframe\">\n",
       "  <thead>\n",
       "    <tr style=\"text-align: right;\">\n",
       "      <th></th>\n",
       "      <th>id</th>\n",
       "      <th>n_0002</th>\n",
       "      <th>n_0005</th>\n",
       "      <th>n_0012</th>\n",
       "      <th>n_0019</th>\n",
       "      <th>n_0028</th>\n",
       "      <th>n_0034</th>\n",
       "      <th>n_0038</th>\n",
       "      <th>n_0039</th>\n",
       "      <th>n_0047</th>\n",
       "      <th>...</th>\n",
       "      <th>o_0270</th>\n",
       "      <th>o_0274</th>\n",
       "      <th>o_0276</th>\n",
       "      <th>o_0279</th>\n",
       "      <th>o_0285</th>\n",
       "      <th>o_0286</th>\n",
       "      <th>o_0301</th>\n",
       "      <th>o_0314</th>\n",
       "      <th>o_0315</th>\n",
       "      <th>o_0323</th>\n",
       "    </tr>\n",
       "  </thead>\n",
       "  <tbody>\n",
       "    <tr>\n",
       "      <th>0</th>\n",
       "      <td>11193.0</td>\n",
       "      <td>0.025449</td>\n",
       "      <td>0.368421</td>\n",
       "      <td>0.292683</td>\n",
       "      <td>0.0</td>\n",
       "      <td>0.045455</td>\n",
       "      <td>0.223881</td>\n",
       "      <td>0.193548</td>\n",
       "      <td>0.208333</td>\n",
       "      <td>1.0</td>\n",
       "      <td>...</td>\n",
       "      <td>5.0</td>\n",
       "      <td>27.0</td>\n",
       "      <td>1.0</td>\n",
       "      <td>10.0</td>\n",
       "      <td>1.0</td>\n",
       "      <td>15.0</td>\n",
       "      <td>12.0</td>\n",
       "      <td>0.0</td>\n",
       "      <td>0.0</td>\n",
       "      <td>0.0</td>\n",
       "    </tr>\n",
       "    <tr>\n",
       "      <th>1</th>\n",
       "      <td>11382.0</td>\n",
       "      <td>0.031297</td>\n",
       "      <td>0.315789</td>\n",
       "      <td>0.243902</td>\n",
       "      <td>0.0</td>\n",
       "      <td>0.045455</td>\n",
       "      <td>0.104478</td>\n",
       "      <td>0.177419</td>\n",
       "      <td>0.208333</td>\n",
       "      <td>1.0</td>\n",
       "      <td>...</td>\n",
       "      <td>6.0</td>\n",
       "      <td>33.0</td>\n",
       "      <td>1.0</td>\n",
       "      <td>14.0</td>\n",
       "      <td>1.0</td>\n",
       "      <td>14.0</td>\n",
       "      <td>10.0</td>\n",
       "      <td>0.0</td>\n",
       "      <td>0.0</td>\n",
       "      <td>0.0</td>\n",
       "    </tr>\n",
       "    <tr>\n",
       "      <th>2</th>\n",
       "      <td>16531.0</td>\n",
       "      <td>0.024475</td>\n",
       "      <td>0.342105</td>\n",
       "      <td>0.304878</td>\n",
       "      <td>0.0</td>\n",
       "      <td>0.045455</td>\n",
       "      <td>0.119403</td>\n",
       "      <td>0.290323</td>\n",
       "      <td>0.208333</td>\n",
       "      <td>1.0</td>\n",
       "      <td>...</td>\n",
       "      <td>3.0</td>\n",
       "      <td>23.0</td>\n",
       "      <td>1.0</td>\n",
       "      <td>32.0</td>\n",
       "      <td>1.0</td>\n",
       "      <td>5.0</td>\n",
       "      <td>6.0</td>\n",
       "      <td>0.0</td>\n",
       "      <td>0.0</td>\n",
       "      <td>0.0</td>\n",
       "    </tr>\n",
       "    <tr>\n",
       "      <th>3</th>\n",
       "      <td>1896.0</td>\n",
       "      <td>0.041694</td>\n",
       "      <td>0.447368</td>\n",
       "      <td>0.207317</td>\n",
       "      <td>0.0</td>\n",
       "      <td>0.045455</td>\n",
       "      <td>0.149254</td>\n",
       "      <td>0.370968</td>\n",
       "      <td>0.208333</td>\n",
       "      <td>1.0</td>\n",
       "      <td>...</td>\n",
       "      <td>6.0</td>\n",
       "      <td>46.0</td>\n",
       "      <td>1.0</td>\n",
       "      <td>29.0</td>\n",
       "      <td>1.0</td>\n",
       "      <td>30.0</td>\n",
       "      <td>8.0</td>\n",
       "      <td>0.0</td>\n",
       "      <td>0.0</td>\n",
       "      <td>0.0</td>\n",
       "    </tr>\n",
       "    <tr>\n",
       "      <th>4</th>\n",
       "      <td>18262.0</td>\n",
       "      <td>0.038120</td>\n",
       "      <td>0.315789</td>\n",
       "      <td>0.219512</td>\n",
       "      <td>0.0</td>\n",
       "      <td>0.045455</td>\n",
       "      <td>0.074627</td>\n",
       "      <td>0.177419</td>\n",
       "      <td>0.312500</td>\n",
       "      <td>1.0</td>\n",
       "      <td>...</td>\n",
       "      <td>9.0</td>\n",
       "      <td>40.0</td>\n",
       "      <td>1.0</td>\n",
       "      <td>20.0</td>\n",
       "      <td>1.0</td>\n",
       "      <td>19.0</td>\n",
       "      <td>13.0</td>\n",
       "      <td>0.0</td>\n",
       "      <td>0.0</td>\n",
       "      <td>0.0</td>\n",
       "    </tr>\n",
       "  </tbody>\n",
       "</table>\n",
       "<p>5 rows × 72 columns</p>\n",
       "</div>"
      ],
      "text/plain": [
       "        id    n_0002    n_0005    n_0012  n_0019    n_0028    n_0034  \\\n",
       "0  11193.0  0.025449  0.368421  0.292683     0.0  0.045455  0.223881   \n",
       "1  11382.0  0.031297  0.315789  0.243902     0.0  0.045455  0.104478   \n",
       "2  16531.0  0.024475  0.342105  0.304878     0.0  0.045455  0.119403   \n",
       "3   1896.0  0.041694  0.447368  0.207317     0.0  0.045455  0.149254   \n",
       "4  18262.0  0.038120  0.315789  0.219512     0.0  0.045455  0.074627   \n",
       "\n",
       "     n_0038    n_0039  n_0047   ...    o_0270  o_0274  o_0276  o_0279  o_0285  \\\n",
       "0  0.193548  0.208333     1.0   ...       5.0    27.0     1.0    10.0     1.0   \n",
       "1  0.177419  0.208333     1.0   ...       6.0    33.0     1.0    14.0     1.0   \n",
       "2  0.290323  0.208333     1.0   ...       3.0    23.0     1.0    32.0     1.0   \n",
       "3  0.370968  0.208333     1.0   ...       6.0    46.0     1.0    29.0     1.0   \n",
       "4  0.177419  0.312500     1.0   ...       9.0    40.0     1.0    20.0     1.0   \n",
       "\n",
       "   o_0286  o_0301  o_0314  o_0315  o_0323  \n",
       "0    15.0    12.0     0.0     0.0     0.0  \n",
       "1    14.0    10.0     0.0     0.0     0.0  \n",
       "2     5.0     6.0     0.0     0.0     0.0  \n",
       "3    30.0     8.0     0.0     0.0     0.0  \n",
       "4    19.0    13.0     0.0     0.0     0.0  \n",
       "\n",
       "[5 rows x 72 columns]"
      ]
     },
     "execution_count": 14,
     "metadata": {},
     "output_type": "execute_result"
    }
   ],
   "source": [
    "from sklearn.preprocessing import Imputer\n",
    "imputer=Imputer(missing_values=np.nan, strategy='median', axis=0)\n",
    "imputer=imputer.fit(num_cols)\n",
    "imputed_data=imputer.transform(num_cols.values)\n",
    "num_cols1=pd.DataFrame(imputed_data,columns=num_cols.columns)\n",
    "num_cols1.head()"
   ]
  },
  {
   "cell_type": "markdown",
   "metadata": {},
   "source": [
    "## Scaling"
   ]
  },
  {
   "cell_type": "code",
   "execution_count": 15,
   "metadata": {
    "collapsed": true
   },
   "outputs": [],
   "source": [
    "from sklearn.preprocessing import StandardScaler\n",
    "num_cols1 = StandardScaler().fit_transform(num_cols1)"
   ]
  },
  {
   "cell_type": "markdown",
   "metadata": {},
   "source": [
    "## PCA for Numerical data"
   ]
  },
  {
   "cell_type": "code",
   "execution_count": 16,
   "metadata": {},
   "outputs": [
    {
     "name": "stdout",
     "output_type": "stream",
     "text": [
      "PCA(copy=True, iterated_power='auto', n_components=0.8, random_state=None,\n",
      "  svd_solver='auto', tol=0.0, whiten=False)\n"
     ]
    },
    {
     "data": {
      "text/plain": [
       "38"
      ]
     },
     "execution_count": 16,
     "metadata": {},
     "output_type": "execute_result"
    }
   ],
   "source": [
    "from sklearn.decomposition import PCA\n",
    "pca=PCA(.80)## It explains only 80% of information of data (variance)\n",
    "#pca = PCA(n_components=30)\n",
    "print(pca)\n",
    "num_cols2=pca.fit_transform(num_cols1)\n",
    "#pca.explained_variance_ratio_\n",
    "pca_components=pca.n_components_\n",
    "pca_components"
   ]
  },
  {
   "cell_type": "code",
   "execution_count": 17,
   "metadata": {},
   "outputs": [
    {
     "name": "stdout",
     "output_type": "stream",
     "text": [
      "[ 0.10957094  0.05517021  0.04353973  0.03887716  0.03235958  0.02671965\n",
      "  0.02628239  0.02242339  0.01999731  0.01939875  0.01849289  0.01823029\n",
      "  0.01749316  0.01729571  0.01646379  0.01613038  0.01593858  0.01572859\n",
      "  0.01567793  0.0156186   0.01535169  0.01512557  0.01502345  0.01482267\n",
      "  0.01472097  0.01458605  0.01449421  0.01438068  0.01397057  0.01387584\n",
      "  0.01347677  0.0132305   0.01300499  0.01281318  0.0125942   0.01246074\n",
      "  0.01244183  0.01206752]\n"
     ]
    },
    {
     "data": {
      "image/png": "[encoded data removed]",
      "text/plain": [
       "<matplotlib.figure.Figure at 0x247085c8ba8>"
      ]
     },
     "metadata": {},
     "output_type": "display_data"
    }
   ],
   "source": [
    "#The amount of variance that each PC explains\n",
    "var= pca.explained_variance_ratio_\n",
    "print(var)\n",
    "plt.plot(var)\n",
    "plt.show()"
   ]
  },
  {
   "cell_type": "markdown",
   "metadata": {},
   "source": [
    "### Numerical Dataframe after PCA"
   ]
  },
  {
   "cell_type": "code",
   "execution_count": 18,
   "metadata": {},
   "outputs": [
    {
     "data": {
      "text/html": [
       "<div>\n",
       "<style>\n",
       "    .dataframe thead tr:only-child th {\n",
       "        text-align: right;\n",
       "    }\n",
       "\n",
       "    .dataframe thead th {\n",
       "        text-align: left;\n",
       "    }\n",
       "\n",
       "    .dataframe tbody tr th {\n",
       "        vertical-align: top;\n",
       "    }\n",
       "</style>\n",
       "<table border=\"1\" class=\"dataframe\">\n",
       "  <thead>\n",
       "    <tr style=\"text-align: right;\">\n",
       "      <th></th>\n",
       "      <th>0</th>\n",
       "      <th>1</th>\n",
       "      <th>2</th>\n",
       "      <th>3</th>\n",
       "      <th>4</th>\n",
       "      <th>5</th>\n",
       "      <th>6</th>\n",
       "      <th>7</th>\n",
       "      <th>8</th>\n",
       "      <th>9</th>\n",
       "      <th>...</th>\n",
       "      <th>28</th>\n",
       "      <th>29</th>\n",
       "      <th>30</th>\n",
       "      <th>31</th>\n",
       "      <th>32</th>\n",
       "      <th>33</th>\n",
       "      <th>34</th>\n",
       "      <th>35</th>\n",
       "      <th>36</th>\n",
       "      <th>37</th>\n",
       "    </tr>\n",
       "  </thead>\n",
       "  <tbody>\n",
       "    <tr>\n",
       "      <th>0</th>\n",
       "      <td>6.076627</td>\n",
       "      <td>-0.575677</td>\n",
       "      <td>-0.841880</td>\n",
       "      <td>2.313944</td>\n",
       "      <td>0.844188</td>\n",
       "      <td>-1.124082</td>\n",
       "      <td>-2.584006</td>\n",
       "      <td>-0.594535</td>\n",
       "      <td>0.939601</td>\n",
       "      <td>-0.818944</td>\n",
       "      <td>...</td>\n",
       "      <td>-0.232521</td>\n",
       "      <td>-0.236592</td>\n",
       "      <td>0.908256</td>\n",
       "      <td>0.185777</td>\n",
       "      <td>0.063665</td>\n",
       "      <td>0.162707</td>\n",
       "      <td>-0.689815</td>\n",
       "      <td>1.252231</td>\n",
       "      <td>0.786739</td>\n",
       "      <td>0.841315</td>\n",
       "    </tr>\n",
       "    <tr>\n",
       "      <th>1</th>\n",
       "      <td>3.836042</td>\n",
       "      <td>0.261186</td>\n",
       "      <td>-0.171489</td>\n",
       "      <td>2.210323</td>\n",
       "      <td>-0.552976</td>\n",
       "      <td>-1.470234</td>\n",
       "      <td>-0.944588</td>\n",
       "      <td>-0.087564</td>\n",
       "      <td>0.673511</td>\n",
       "      <td>0.924485</td>\n",
       "      <td>...</td>\n",
       "      <td>0.741431</td>\n",
       "      <td>-0.466551</td>\n",
       "      <td>-0.285145</td>\n",
       "      <td>0.452369</td>\n",
       "      <td>-0.418338</td>\n",
       "      <td>-0.061422</td>\n",
       "      <td>1.132073</td>\n",
       "      <td>0.632208</td>\n",
       "      <td>0.095734</td>\n",
       "      <td>0.971994</td>\n",
       "    </tr>\n",
       "    <tr>\n",
       "      <th>2</th>\n",
       "      <td>4.018008</td>\n",
       "      <td>3.167597</td>\n",
       "      <td>-0.223201</td>\n",
       "      <td>-1.768088</td>\n",
       "      <td>-0.478885</td>\n",
       "      <td>-2.902527</td>\n",
       "      <td>0.474748</td>\n",
       "      <td>-0.042028</td>\n",
       "      <td>-0.159062</td>\n",
       "      <td>0.415008</td>\n",
       "      <td>...</td>\n",
       "      <td>-0.048935</td>\n",
       "      <td>0.937004</td>\n",
       "      <td>-0.931084</td>\n",
       "      <td>1.254646</td>\n",
       "      <td>-1.259625</td>\n",
       "      <td>-0.150548</td>\n",
       "      <td>-0.322628</td>\n",
       "      <td>-0.026147</td>\n",
       "      <td>0.010269</td>\n",
       "      <td>-0.705993</td>\n",
       "    </tr>\n",
       "    <tr>\n",
       "      <th>3</th>\n",
       "      <td>0.770249</td>\n",
       "      <td>0.819915</td>\n",
       "      <td>-0.247511</td>\n",
       "      <td>-1.506793</td>\n",
       "      <td>0.210980</td>\n",
       "      <td>1.277786</td>\n",
       "      <td>0.028599</td>\n",
       "      <td>1.994898</td>\n",
       "      <td>-0.369985</td>\n",
       "      <td>-0.451570</td>\n",
       "      <td>...</td>\n",
       "      <td>-1.241423</td>\n",
       "      <td>0.371171</td>\n",
       "      <td>-0.443772</td>\n",
       "      <td>-1.119460</td>\n",
       "      <td>1.656568</td>\n",
       "      <td>-0.067804</td>\n",
       "      <td>-1.059020</td>\n",
       "      <td>-0.835921</td>\n",
       "      <td>0.613648</td>\n",
       "      <td>-0.869783</td>\n",
       "    </tr>\n",
       "    <tr>\n",
       "      <th>4</th>\n",
       "      <td>1.525670</td>\n",
       "      <td>0.431122</td>\n",
       "      <td>3.045903</td>\n",
       "      <td>1.629937</td>\n",
       "      <td>-2.787773</td>\n",
       "      <td>0.009762</td>\n",
       "      <td>-2.714656</td>\n",
       "      <td>1.502891</td>\n",
       "      <td>0.979560</td>\n",
       "      <td>2.698379</td>\n",
       "      <td>...</td>\n",
       "      <td>-0.190738</td>\n",
       "      <td>-1.264388</td>\n",
       "      <td>-0.912625</td>\n",
       "      <td>1.190297</td>\n",
       "      <td>0.039980</td>\n",
       "      <td>-1.009747</td>\n",
       "      <td>-0.134169</td>\n",
       "      <td>0.374120</td>\n",
       "      <td>-1.175972</td>\n",
       "      <td>-1.003526</td>\n",
       "    </tr>\n",
       "  </tbody>\n",
       "</table>\n",
       "<p>5 rows × 38 columns</p>\n",
       "</div>"
      ],
      "text/plain": [
       "         0         1         2         3         4         5         6   \\\n",
       "0  6.076627 -0.575677 -0.841880  2.313944  0.844188 -1.124082 -2.584006   \n",
       "1  3.836042  0.261186 -0.171489  2.210323 -0.552976 -1.470234 -0.944588   \n",
       "2  4.018008  3.167597 -0.223201 -1.768088 -0.478885 -2.902527  0.474748   \n",
       "3  0.770249  0.819915 -0.247511 -1.506793  0.210980  1.277786  0.028599   \n",
       "4  1.525670  0.431122  3.045903  1.629937 -2.787773  0.009762 -2.714656   \n",
       "\n",
       "         7         8         9     ...           28        29        30  \\\n",
       "0 -0.594535  0.939601 -0.818944    ...    -0.232521 -0.236592  0.908256   \n",
       "1 -0.087564  0.673511  0.924485    ...     0.741431 -0.466551 -0.285145   \n",
       "2 -0.042028 -0.159062  0.415008    ...    -0.048935  0.937004 -0.931084   \n",
       "3  1.994898 -0.369985 -0.451570    ...    -1.241423  0.371171 -0.443772   \n",
       "4  1.502891  0.979560  2.698379    ...    -0.190738 -1.264388 -0.912625   \n",
       "\n",
       "         31        32        33        34        35        36        37  \n",
       "0  0.185777  0.063665  0.162707 -0.689815  1.252231  0.786739  0.841315  \n",
       "1  0.452369 -0.418338 -0.061422  1.132073  0.632208  0.095734  0.971994  \n",
       "2  1.254646 -1.259625 -0.150548 -0.322628 -0.026147  0.010269 -0.705993  \n",
       "3 -1.119460  1.656568 -0.067804 -1.059020 -0.835921  0.613648 -0.869783  \n",
       "4  1.190297  0.039980 -1.009747 -0.134169  0.374120 -1.175972 -1.003526  \n",
       "\n",
       "[5 rows x 38 columns]"
      ]
     },
     "execution_count": 18,
     "metadata": {},
     "output_type": "execute_result"
    }
   ],
   "source": [
    "num_cols3=pd.DataFrame(num_cols2,columns=range(pca_components))\n",
    "num_cols3.head()"
   ]
  },
  {
   "cell_type": "markdown",
   "metadata": {},
   "source": [
    "## fill missing values with fillna() method----Another way"
   ]
  },
  {
   "cell_type": "code",
   "execution_count": 19,
   "metadata": {
    "collapsed": true
   },
   "outputs": [],
   "source": [
    "#num_cols.fillna(num_cols.mean(), inplace=True)\n",
    "#num_cols.head()"
   ]
  },
  {
   "cell_type": "markdown",
   "metadata": {},
   "source": [
    "## Data of categorical values"
   ]
  },
  {
   "cell_type": "code",
   "execution_count": 48,
   "metadata": {},
   "outputs": [
    {
     "data": {
      "text/html": [
       "<div>\n",
       "<style>\n",
       "    .dataframe thead tr:only-child th {\n",
       "        text-align: right;\n",
       "    }\n",
       "\n",
       "    .dataframe thead th {\n",
       "        text-align: left;\n",
       "    }\n",
       "\n",
       "    .dataframe tbody tr th {\n",
       "        vertical-align: top;\n",
       "    }\n",
       "</style>\n",
       "<table border=\"1\" class=\"dataframe\">\n",
       "  <thead>\n",
       "    <tr style=\"text-align: right;\">\n",
       "      <th></th>\n",
       "      <th>release</th>\n",
       "      <th>c_0332</th>\n",
       "      <th>c_0337</th>\n",
       "      <th>c_0339</th>\n",
       "      <th>c_0348</th>\n",
       "      <th>c_0351</th>\n",
       "      <th>c_0357</th>\n",
       "      <th>c_0361</th>\n",
       "      <th>c_0364</th>\n",
       "      <th>c_0368</th>\n",
       "      <th>...</th>\n",
       "      <th>c_1333</th>\n",
       "      <th>c_1335</th>\n",
       "      <th>c_1343</th>\n",
       "      <th>c_1347</th>\n",
       "      <th>c_1348</th>\n",
       "      <th>c_1361</th>\n",
       "      <th>c_1363</th>\n",
       "      <th>c_1372</th>\n",
       "      <th>c_1374</th>\n",
       "      <th>c_1377</th>\n",
       "    </tr>\n",
       "  </thead>\n",
       "  <tbody>\n",
       "    <tr>\n",
       "      <th>0</th>\n",
       "      <td>a</td>\n",
       "      <td>NaN</td>\n",
       "      <td>a</td>\n",
       "      <td>NaN</td>\n",
       "      <td>f</td>\n",
       "      <td>o</td>\n",
       "      <td>NaN</td>\n",
       "      <td>NaN</td>\n",
       "      <td>a</td>\n",
       "      <td>b</td>\n",
       "      <td>...</td>\n",
       "      <td>e</td>\n",
       "      <td>w</td>\n",
       "      <td>b</td>\n",
       "      <td>NaN</td>\n",
       "      <td>b</td>\n",
       "      <td>e</td>\n",
       "      <td>b</td>\n",
       "      <td>a</td>\n",
       "      <td>q</td>\n",
       "      <td>NaN</td>\n",
       "    </tr>\n",
       "    <tr>\n",
       "      <th>1</th>\n",
       "      <td>a</td>\n",
       "      <td>NaN</td>\n",
       "      <td>a</td>\n",
       "      <td>NaN</td>\n",
       "      <td>k</td>\n",
       "      <td>s</td>\n",
       "      <td>NaN</td>\n",
       "      <td>NaN</td>\n",
       "      <td>a</td>\n",
       "      <td>b</td>\n",
       "      <td>...</td>\n",
       "      <td>e</td>\n",
       "      <td>q</td>\n",
       "      <td>b</td>\n",
       "      <td>NaN</td>\n",
       "      <td>b</td>\n",
       "      <td>e</td>\n",
       "      <td>b</td>\n",
       "      <td>a</td>\n",
       "      <td>NaN</td>\n",
       "      <td>NaN</td>\n",
       "    </tr>\n",
       "    <tr>\n",
       "      <th>2</th>\n",
       "      <td>a</td>\n",
       "      <td>NaN</td>\n",
       "      <td>b</td>\n",
       "      <td>NaN</td>\n",
       "      <td>p</td>\n",
       "      <td>f</td>\n",
       "      <td>NaN</td>\n",
       "      <td>NaN</td>\n",
       "      <td>b</td>\n",
       "      <td>b</td>\n",
       "      <td>...</td>\n",
       "      <td>e</td>\n",
       "      <td>u</td>\n",
       "      <td>a</td>\n",
       "      <td>NaN</td>\n",
       "      <td>b</td>\n",
       "      <td>c</td>\n",
       "      <td>a</td>\n",
       "      <td>a</td>\n",
       "      <td>b</td>\n",
       "      <td>NaN</td>\n",
       "    </tr>\n",
       "    <tr>\n",
       "      <th>3</th>\n",
       "      <td>a</td>\n",
       "      <td>NaN</td>\n",
       "      <td>a</td>\n",
       "      <td>NaN</td>\n",
       "      <td>f</td>\n",
       "      <td>o</td>\n",
       "      <td>NaN</td>\n",
       "      <td>NaN</td>\n",
       "      <td>b</td>\n",
       "      <td>b</td>\n",
       "      <td>...</td>\n",
       "      <td>NaN</td>\n",
       "      <td>w</td>\n",
       "      <td>a</td>\n",
       "      <td>NaN</td>\n",
       "      <td>b</td>\n",
       "      <td>g</td>\n",
       "      <td>a</td>\n",
       "      <td>a</td>\n",
       "      <td>NaN</td>\n",
       "      <td>NaN</td>\n",
       "    </tr>\n",
       "    <tr>\n",
       "      <th>4</th>\n",
       "      <td>c</td>\n",
       "      <td>a</td>\n",
       "      <td>a</td>\n",
       "      <td>b</td>\n",
       "      <td>t</td>\n",
       "      <td>c</td>\n",
       "      <td>NaN</td>\n",
       "      <td>b</td>\n",
       "      <td>a</td>\n",
       "      <td>b</td>\n",
       "      <td>...</td>\n",
       "      <td>e</td>\n",
       "      <td>b</td>\n",
       "      <td>b</td>\n",
       "      <td>d</td>\n",
       "      <td>b</td>\n",
       "      <td>e</td>\n",
       "      <td>b</td>\n",
       "      <td>a</td>\n",
       "      <td>a</td>\n",
       "      <td>NaN</td>\n",
       "    </tr>\n",
       "  </tbody>\n",
       "</table>\n",
       "<p>5 rows × 269 columns</p>\n",
       "</div>"
      ],
      "text/plain": [
       "  release c_0332 c_0337 c_0339 c_0348 c_0351 c_0357 c_0361 c_0364 c_0368  \\\n",
       "0       a    NaN      a    NaN      f      o    NaN    NaN      a      b   \n",
       "1       a    NaN      a    NaN      k      s    NaN    NaN      a      b   \n",
       "2       a    NaN      b    NaN      p      f    NaN    NaN      b      b   \n",
       "3       a    NaN      a    NaN      f      o    NaN    NaN      b      b   \n",
       "4       c      a      a      b      t      c    NaN      b      a      b   \n",
       "\n",
       "   ...   c_1333 c_1335 c_1343 c_1347 c_1348 c_1361 c_1363 c_1372 c_1374 c_1377  \n",
       "0  ...        e      w      b    NaN      b      e      b      a      q    NaN  \n",
       "1  ...        e      q      b    NaN      b      e      b      a    NaN    NaN  \n",
       "2  ...        e      u      a    NaN      b      c      a      a      b    NaN  \n",
       "3  ...      NaN      w      a    NaN      b      g      a      a    NaN    NaN  \n",
       "4  ...        e      b      b      d      b      e      b      a      a    NaN  \n",
       "\n",
       "[5 rows x 269 columns]"
      ]
     },
     "execution_count": 48,
     "metadata": {},
     "output_type": "execute_result"
    }
   ],
   "source": [
    "cat_cols=pd.DataFrame(train_data1.select_dtypes(include=['object']))\n",
    "cat_cols.head()"
   ]
  },
  {
   "cell_type": "code",
   "execution_count": 49,
   "metadata": {},
   "outputs": [
    {
     "data": {
      "text/plain": [
       "release        0\n",
       "c_0332     11478\n",
       "c_0337      4559\n",
       "c_0339     11473\n",
       "c_0348      5810\n",
       "dtype: int64"
      ]
     },
     "execution_count": 49,
     "metadata": {},
     "output_type": "execute_result"
    }
   ],
   "source": [
    "cat_cols.isnull().sum().head()"
   ]
  },
  {
   "cell_type": "code",
   "execution_count": 50,
   "metadata": {},
   "outputs": [
    {
     "data": {
      "text/plain": [
       "Index(['release', 'c_0332', 'c_0337', 'c_0339', 'c_0348', 'c_0351', 'c_0357',\n",
       "       'c_0361', 'c_0364', 'c_0368',\n",
       "       ...\n",
       "       'c_1333', 'c_1335', 'c_1343', 'c_1347', 'c_1348', 'c_1361', 'c_1363',\n",
       "       'c_1372', 'c_1374', 'c_1377'],\n",
       "      dtype='object', length=269)"
      ]
     },
     "execution_count": 50,
     "metadata": {},
     "output_type": "execute_result"
    }
   ],
   "source": [
    "cat_cols.columns"
   ]
  },
  {
   "cell_type": "markdown",
   "metadata": {
    "collapsed": true
   },
   "source": [
    "from sklearn.preprocessing import Imputer\n",
    "imputer =Imputer(missing_values=np.nan, strategy='most_frequent', axis=0)\n",
    "imputer=imputer.fit(cat_cols)\n",
    "imputed_data=imputer.transform(cat_cols.values)\n",
    "cat_cols1=pd.DataFrame(imputed_data,columns=cat_cols.columns)\n",
    "cat_cols1.head()"
   ]
  },
  {
   "cell_type": "code",
   "execution_count": 51,
   "metadata": {},
   "outputs": [
    {
     "data": {
      "text/plain": [
       "release        0\n",
       "c_0332     11478\n",
       "c_0337      4559\n",
       "c_0339     11473\n",
       "c_0348      5810\n",
       "dtype: int64"
      ]
     },
     "execution_count": 51,
     "metadata": {},
     "output_type": "execute_result"
    }
   ],
   "source": [
    "cat_cols.isnull().sum().head()"
   ]
  },
  {
   "cell_type": "code",
   "execution_count": 52,
   "metadata": {},
   "outputs": [
    {
     "data": {
      "text/html": [
       "<div>\n",
       "<style>\n",
       "    .dataframe thead tr:only-child th {\n",
       "        text-align: right;\n",
       "    }\n",
       "\n",
       "    .dataframe thead th {\n",
       "        text-align: left;\n",
       "    }\n",
       "\n",
       "    .dataframe tbody tr th {\n",
       "        vertical-align: top;\n",
       "    }\n",
       "</style>\n",
       "<table border=\"1\" class=\"dataframe\">\n",
       "  <thead>\n",
       "    <tr style=\"text-align: right;\">\n",
       "      <th></th>\n",
       "      <th>release</th>\n",
       "      <th>c_0332</th>\n",
       "      <th>c_0337</th>\n",
       "      <th>c_0339</th>\n",
       "      <th>c_0348</th>\n",
       "      <th>c_0351</th>\n",
       "      <th>c_0357</th>\n",
       "      <th>c_0361</th>\n",
       "      <th>c_0364</th>\n",
       "      <th>c_0368</th>\n",
       "      <th>...</th>\n",
       "      <th>c_1333</th>\n",
       "      <th>c_1335</th>\n",
       "      <th>c_1343</th>\n",
       "      <th>c_1347</th>\n",
       "      <th>c_1348</th>\n",
       "      <th>c_1361</th>\n",
       "      <th>c_1363</th>\n",
       "      <th>c_1372</th>\n",
       "      <th>c_1374</th>\n",
       "      <th>c_1377</th>\n",
       "    </tr>\n",
       "  </thead>\n",
       "  <tbody>\n",
       "    <tr>\n",
       "      <th>0</th>\n",
       "      <td>a</td>\n",
       "      <td>a</td>\n",
       "      <td>a</td>\n",
       "      <td>b</td>\n",
       "      <td>p</td>\n",
       "      <td>f</td>\n",
       "      <td>c</td>\n",
       "      <td>a</td>\n",
       "      <td>a</td>\n",
       "      <td>b</td>\n",
       "      <td>...</td>\n",
       "      <td>e</td>\n",
       "      <td>u</td>\n",
       "      <td>b</td>\n",
       "      <td>c</td>\n",
       "      <td>b</td>\n",
       "      <td>e</td>\n",
       "      <td>b</td>\n",
       "      <td>a</td>\n",
       "      <td>b</td>\n",
       "      <td>b</td>\n",
       "    </tr>\n",
       "  </tbody>\n",
       "</table>\n",
       "<p>1 rows × 269 columns</p>\n",
       "</div>"
      ],
      "text/plain": [
       "  release c_0332 c_0337 c_0339 c_0348 c_0351 c_0357 c_0361 c_0364 c_0368  \\\n",
       "0       a      a      a      b      p      f      c      a      a      b   \n",
       "\n",
       "   ...   c_1333 c_1335 c_1343 c_1347 c_1348 c_1361 c_1363 c_1372 c_1374 c_1377  \n",
       "0  ...        e      u      b      c      b      e      b      a      b      b  \n",
       "\n",
       "[1 rows x 269 columns]"
      ]
     },
     "execution_count": 52,
     "metadata": {},
     "output_type": "execute_result"
    }
   ],
   "source": [
    "cat_cols.mode()"
   ]
  },
  {
   "cell_type": "code",
   "execution_count": 53,
   "metadata": {},
   "outputs": [
    {
     "data": {
      "text/html": [
       "<div>\n",
       "<style>\n",
       "    .dataframe thead tr:only-child th {\n",
       "        text-align: right;\n",
       "    }\n",
       "\n",
       "    .dataframe thead th {\n",
       "        text-align: left;\n",
       "    }\n",
       "\n",
       "    .dataframe tbody tr th {\n",
       "        vertical-align: top;\n",
       "    }\n",
       "</style>\n",
       "<table border=\"1\" class=\"dataframe\">\n",
       "  <thead>\n",
       "    <tr style=\"text-align: right;\">\n",
       "      <th></th>\n",
       "      <th>release</th>\n",
       "      <th>c_0332</th>\n",
       "      <th>c_0337</th>\n",
       "      <th>c_0339</th>\n",
       "      <th>c_0348</th>\n",
       "      <th>c_0351</th>\n",
       "      <th>c_0357</th>\n",
       "      <th>c_0361</th>\n",
       "      <th>c_0364</th>\n",
       "      <th>c_0368</th>\n",
       "      <th>...</th>\n",
       "      <th>c_1333</th>\n",
       "      <th>c_1335</th>\n",
       "      <th>c_1343</th>\n",
       "      <th>c_1347</th>\n",
       "      <th>c_1348</th>\n",
       "      <th>c_1361</th>\n",
       "      <th>c_1363</th>\n",
       "      <th>c_1372</th>\n",
       "      <th>c_1374</th>\n",
       "      <th>c_1377</th>\n",
       "    </tr>\n",
       "  </thead>\n",
       "  <tbody>\n",
       "    <tr>\n",
       "      <th>0</th>\n",
       "      <td>a</td>\n",
       "      <td>a</td>\n",
       "      <td>a</td>\n",
       "      <td>b</td>\n",
       "      <td>f</td>\n",
       "      <td>o</td>\n",
       "      <td>c</td>\n",
       "      <td>a</td>\n",
       "      <td>a</td>\n",
       "      <td>b</td>\n",
       "      <td>...</td>\n",
       "      <td>e</td>\n",
       "      <td>w</td>\n",
       "      <td>b</td>\n",
       "      <td>c</td>\n",
       "      <td>b</td>\n",
       "      <td>e</td>\n",
       "      <td>b</td>\n",
       "      <td>a</td>\n",
       "      <td>q</td>\n",
       "      <td>b</td>\n",
       "    </tr>\n",
       "    <tr>\n",
       "      <th>1</th>\n",
       "      <td>a</td>\n",
       "      <td>a</td>\n",
       "      <td>a</td>\n",
       "      <td>b</td>\n",
       "      <td>k</td>\n",
       "      <td>s</td>\n",
       "      <td>c</td>\n",
       "      <td>a</td>\n",
       "      <td>a</td>\n",
       "      <td>b</td>\n",
       "      <td>...</td>\n",
       "      <td>e</td>\n",
       "      <td>q</td>\n",
       "      <td>b</td>\n",
       "      <td>c</td>\n",
       "      <td>b</td>\n",
       "      <td>e</td>\n",
       "      <td>b</td>\n",
       "      <td>a</td>\n",
       "      <td>b</td>\n",
       "      <td>b</td>\n",
       "    </tr>\n",
       "    <tr>\n",
       "      <th>2</th>\n",
       "      <td>a</td>\n",
       "      <td>a</td>\n",
       "      <td>b</td>\n",
       "      <td>b</td>\n",
       "      <td>p</td>\n",
       "      <td>f</td>\n",
       "      <td>c</td>\n",
       "      <td>a</td>\n",
       "      <td>b</td>\n",
       "      <td>b</td>\n",
       "      <td>...</td>\n",
       "      <td>e</td>\n",
       "      <td>u</td>\n",
       "      <td>a</td>\n",
       "      <td>c</td>\n",
       "      <td>b</td>\n",
       "      <td>c</td>\n",
       "      <td>a</td>\n",
       "      <td>a</td>\n",
       "      <td>b</td>\n",
       "      <td>b</td>\n",
       "    </tr>\n",
       "    <tr>\n",
       "      <th>3</th>\n",
       "      <td>a</td>\n",
       "      <td>a</td>\n",
       "      <td>a</td>\n",
       "      <td>b</td>\n",
       "      <td>f</td>\n",
       "      <td>o</td>\n",
       "      <td>c</td>\n",
       "      <td>a</td>\n",
       "      <td>b</td>\n",
       "      <td>b</td>\n",
       "      <td>...</td>\n",
       "      <td>e</td>\n",
       "      <td>w</td>\n",
       "      <td>a</td>\n",
       "      <td>c</td>\n",
       "      <td>b</td>\n",
       "      <td>g</td>\n",
       "      <td>a</td>\n",
       "      <td>a</td>\n",
       "      <td>b</td>\n",
       "      <td>b</td>\n",
       "    </tr>\n",
       "    <tr>\n",
       "      <th>4</th>\n",
       "      <td>c</td>\n",
       "      <td>a</td>\n",
       "      <td>a</td>\n",
       "      <td>b</td>\n",
       "      <td>t</td>\n",
       "      <td>c</td>\n",
       "      <td>c</td>\n",
       "      <td>b</td>\n",
       "      <td>a</td>\n",
       "      <td>b</td>\n",
       "      <td>...</td>\n",
       "      <td>e</td>\n",
       "      <td>b</td>\n",
       "      <td>b</td>\n",
       "      <td>d</td>\n",
       "      <td>b</td>\n",
       "      <td>e</td>\n",
       "      <td>b</td>\n",
       "      <td>a</td>\n",
       "      <td>a</td>\n",
       "      <td>b</td>\n",
       "    </tr>\n",
       "  </tbody>\n",
       "</table>\n",
       "<p>5 rows × 269 columns</p>\n",
       "</div>"
      ],
      "text/plain": [
       "  release c_0332 c_0337 c_0339 c_0348 c_0351 c_0357 c_0361 c_0364 c_0368  \\\n",
       "0       a      a      a      b      f      o      c      a      a      b   \n",
       "1       a      a      a      b      k      s      c      a      a      b   \n",
       "2       a      a      b      b      p      f      c      a      b      b   \n",
       "3       a      a      a      b      f      o      c      a      b      b   \n",
       "4       c      a      a      b      t      c      c      b      a      b   \n",
       "\n",
       "   ...   c_1333 c_1335 c_1343 c_1347 c_1348 c_1361 c_1363 c_1372 c_1374 c_1377  \n",
       "0  ...        e      w      b      c      b      e      b      a      q      b  \n",
       "1  ...        e      q      b      c      b      e      b      a      b      b  \n",
       "2  ...        e      u      a      c      b      c      a      a      b      b  \n",
       "3  ...        e      w      a      c      b      g      a      a      b      b  \n",
       "4  ...        e      b      b      d      b      e      b      a      a      b  \n",
       "\n",
       "[5 rows x 269 columns]"
      ]
     },
     "execution_count": 53,
     "metadata": {},
     "output_type": "execute_result"
    }
   ],
   "source": [
    "#cat_cols.fillna(cat_cols.mode(), inplace=True)\n",
    "#cat_cols.head()\n",
    "\n",
    "for column in cat_cols.columns:\n",
    "    cat_cols[column].fillna(cat_cols[column].mode()[0], inplace=True)\n",
    "cat_cols.head()"
   ]
  },
  {
   "cell_type": "code",
   "execution_count": 54,
   "metadata": {},
   "outputs": [
    {
     "data": {
      "text/plain": [
       "array([['a', 'a', 'a', ..., 'a', 'q', 'b'],\n",
       "       ['a', 'a', 'a', ..., 'a', 'b', 'b'],\n",
       "       ['a', 'a', 'b', ..., 'a', 'b', 'b'],\n",
       "       ..., \n",
       "       ['c', 'a', 'b', ..., 'a', 'b', 'b'],\n",
       "       ['b', 'a', 'a', ..., 'a', 'b', 'b'],\n",
       "       ['a', 'a', 'a', ..., 'a', 'b', 'b']], dtype=object)"
      ]
     },
     "execution_count": 54,
     "metadata": {},
     "output_type": "execute_result"
    }
   ],
   "source": [
    "np.array(cat_cols)"
   ]
  },
  {
   "cell_type": "markdown",
   "metadata": {},
   "source": [
    "## Label Encoding"
   ]
  },
  {
   "cell_type": "code",
   "execution_count": 25,
   "metadata": {},
   "outputs": [
    {
     "data": {
      "text/plain": [
       "array([0, 0, 0, ..., 2, 1, 0], dtype=int64)"
      ]
     },
     "execution_count": 25,
     "metadata": {},
     "output_type": "execute_result"
    }
   ],
   "source": [
    "\n",
    "from sklearn.preprocessing import LabelEncoder\n",
    "le =LabelEncoder()\n",
    "le.fit_transform(cat_cols[cat_cols.columns[0]])\n",
    " "
   ]
  },
  {
   "cell_type": "markdown",
   "metadata": {},
   "source": [
    "X=cat_cols\n",
    "X.shape[1]\n",
    "from sklearn.preprocessing import LabelEncoder\n",
    "le =LabelEncoder()\n",
    "#### encode string input values as integers\n",
    "features = []\n",
    "for i in range(0, X.shape[1]):\n",
    "    le= LabelEncoder()\n",
    "    feature = le.fit_transform(X[:,i])\n",
    "    features.append(feature)\n",
    "encoded_x = numpy.array(features)\n",
    "encoded_x = encoded_x.reshape(X.shape[0], X.shape[1])"
   ]
  },
  {
   "cell_type": "code",
   "execution_count": 26,
   "metadata": {
    "collapsed": true
   },
   "outputs": [],
   "source": [
    "#from sklearn.preprocessing import OneHotEncoder\n",
    "#enc = OneHotEncoder()\n",
    "#X = enc.fit_transform()"
   ]
  },
  {
   "cell_type": "markdown",
   "metadata": {},
   "source": [
    "## Create dummies for categorical data"
   ]
  },
  {
   "cell_type": "code",
   "execution_count": 55,
   "metadata": {},
   "outputs": [
    {
     "data": {
      "text/html": [
       "<div>\n",
       "<style>\n",
       "    .dataframe thead tr:only-child th {\n",
       "        text-align: right;\n",
       "    }\n",
       "\n",
       "    .dataframe thead th {\n",
       "        text-align: left;\n",
       "    }\n",
       "\n",
       "    .dataframe tbody tr th {\n",
       "        vertical-align: top;\n",
       "    }\n",
       "</style>\n",
       "<table border=\"1\" class=\"dataframe\">\n",
       "  <thead>\n",
       "    <tr style=\"text-align: right;\">\n",
       "      <th></th>\n",
       "      <th>release_b</th>\n",
       "      <th>release_c</th>\n",
       "      <th>c_0332_b</th>\n",
       "      <th>c_0337_b</th>\n",
       "      <th>c_0339_b</th>\n",
       "      <th>c_0348_b</th>\n",
       "      <th>c_0348_c</th>\n",
       "      <th>c_0348_d</th>\n",
       "      <th>c_0348_e</th>\n",
       "      <th>c_0348_f</th>\n",
       "      <th>...</th>\n",
       "      <th>c_1374_p</th>\n",
       "      <th>c_1374_q</th>\n",
       "      <th>c_1374_r</th>\n",
       "      <th>c_1374_s</th>\n",
       "      <th>c_1374_t</th>\n",
       "      <th>c_1374_u</th>\n",
       "      <th>c_1374_v</th>\n",
       "      <th>c_1374_w</th>\n",
       "      <th>c_1374_x</th>\n",
       "      <th>c_1377_b</th>\n",
       "    </tr>\n",
       "  </thead>\n",
       "  <tbody>\n",
       "    <tr>\n",
       "      <th>0</th>\n",
       "      <td>0</td>\n",
       "      <td>0</td>\n",
       "      <td>0</td>\n",
       "      <td>0</td>\n",
       "      <td>1</td>\n",
       "      <td>0</td>\n",
       "      <td>0</td>\n",
       "      <td>0</td>\n",
       "      <td>0</td>\n",
       "      <td>1</td>\n",
       "      <td>...</td>\n",
       "      <td>0</td>\n",
       "      <td>1</td>\n",
       "      <td>0</td>\n",
       "      <td>0</td>\n",
       "      <td>0</td>\n",
       "      <td>0</td>\n",
       "      <td>0</td>\n",
       "      <td>0</td>\n",
       "      <td>0</td>\n",
       "      <td>1</td>\n",
       "    </tr>\n",
       "    <tr>\n",
       "      <th>1</th>\n",
       "      <td>0</td>\n",
       "      <td>0</td>\n",
       "      <td>0</td>\n",
       "      <td>0</td>\n",
       "      <td>1</td>\n",
       "      <td>0</td>\n",
       "      <td>0</td>\n",
       "      <td>0</td>\n",
       "      <td>0</td>\n",
       "      <td>0</td>\n",
       "      <td>...</td>\n",
       "      <td>0</td>\n",
       "      <td>0</td>\n",
       "      <td>0</td>\n",
       "      <td>0</td>\n",
       "      <td>0</td>\n",
       "      <td>0</td>\n",
       "      <td>0</td>\n",
       "      <td>0</td>\n",
       "      <td>0</td>\n",
       "      <td>1</td>\n",
       "    </tr>\n",
       "    <tr>\n",
       "      <th>2</th>\n",
       "      <td>0</td>\n",
       "      <td>0</td>\n",
       "      <td>0</td>\n",
       "      <td>1</td>\n",
       "      <td>1</td>\n",
       "      <td>0</td>\n",
       "      <td>0</td>\n",
       "      <td>0</td>\n",
       "      <td>0</td>\n",
       "      <td>0</td>\n",
       "      <td>...</td>\n",
       "      <td>0</td>\n",
       "      <td>0</td>\n",
       "      <td>0</td>\n",
       "      <td>0</td>\n",
       "      <td>0</td>\n",
       "      <td>0</td>\n",
       "      <td>0</td>\n",
       "      <td>0</td>\n",
       "      <td>0</td>\n",
       "      <td>1</td>\n",
       "    </tr>\n",
       "    <tr>\n",
       "      <th>3</th>\n",
       "      <td>0</td>\n",
       "      <td>0</td>\n",
       "      <td>0</td>\n",
       "      <td>0</td>\n",
       "      <td>1</td>\n",
       "      <td>0</td>\n",
       "      <td>0</td>\n",
       "      <td>0</td>\n",
       "      <td>0</td>\n",
       "      <td>1</td>\n",
       "      <td>...</td>\n",
       "      <td>0</td>\n",
       "      <td>0</td>\n",
       "      <td>0</td>\n",
       "      <td>0</td>\n",
       "      <td>0</td>\n",
       "      <td>0</td>\n",
       "      <td>0</td>\n",
       "      <td>0</td>\n",
       "      <td>0</td>\n",
       "      <td>1</td>\n",
       "    </tr>\n",
       "    <tr>\n",
       "      <th>4</th>\n",
       "      <td>0</td>\n",
       "      <td>1</td>\n",
       "      <td>0</td>\n",
       "      <td>0</td>\n",
       "      <td>1</td>\n",
       "      <td>0</td>\n",
       "      <td>0</td>\n",
       "      <td>0</td>\n",
       "      <td>0</td>\n",
       "      <td>0</td>\n",
       "      <td>...</td>\n",
       "      <td>0</td>\n",
       "      <td>0</td>\n",
       "      <td>0</td>\n",
       "      <td>0</td>\n",
       "      <td>0</td>\n",
       "      <td>0</td>\n",
       "      <td>0</td>\n",
       "      <td>0</td>\n",
       "      <td>0</td>\n",
       "      <td>1</td>\n",
       "    </tr>\n",
       "  </tbody>\n",
       "</table>\n",
       "<p>5 rows × 1581 columns</p>\n",
       "</div>"
      ],
      "text/plain": [
       "   release_b  release_c  c_0332_b  c_0337_b  c_0339_b  c_0348_b  c_0348_c  \\\n",
       "0          0          0         0         0         1         0         0   \n",
       "1          0          0         0         0         1         0         0   \n",
       "2          0          0         0         1         1         0         0   \n",
       "3          0          0         0         0         1         0         0   \n",
       "4          0          1         0         0         1         0         0   \n",
       "\n",
       "   c_0348_d  c_0348_e  c_0348_f    ...     c_1374_p  c_1374_q  c_1374_r  \\\n",
       "0         0         0         1    ...            0         1         0   \n",
       "1         0         0         0    ...            0         0         0   \n",
       "2         0         0         0    ...            0         0         0   \n",
       "3         0         0         1    ...            0         0         0   \n",
       "4         0         0         0    ...            0         0         0   \n",
       "\n",
       "   c_1374_s  c_1374_t  c_1374_u  c_1374_v  c_1374_w  c_1374_x  c_1377_b  \n",
       "0         0         0         0         0         0         0         1  \n",
       "1         0         0         0         0         0         0         1  \n",
       "2         0         0         0         0         0         0         1  \n",
       "3         0         0         0         0         0         0         1  \n",
       "4         0         0         0         0         0         0         1  \n",
       "\n",
       "[5 rows x 1581 columns]"
      ]
     },
     "execution_count": 55,
     "metadata": {},
     "output_type": "execute_result"
    }
   ],
   "source": [
    "cat_cols1=pd.get_dummies(cat_cols,drop_first=True)\n",
    "cat_cols1.head()"
   ]
  },
  {
   "cell_type": "markdown",
   "metadata": {},
   "source": [
    "## Standardizing the features before PCA "
   ]
  },
  {
   "cell_type": "code",
   "execution_count": 56,
   "metadata": {
    "collapsed": true
   },
   "outputs": [],
   "source": [
    "from sklearn.preprocessing import StandardScaler\n",
    "cat_cols1 = StandardScaler().fit_transform(cat_cols1)"
   ]
  },
  {
   "cell_type": "markdown",
   "metadata": {},
   "source": [
    "## PCA  dimension reduction for Categorical data\n",
    "The code below has .60 for the number of components parameter. It means that scikit-learn choose the minimum number of principal components such that 60% of the variance is retained."
   ]
  },
  {
   "cell_type": "code",
   "execution_count": 57,
   "metadata": {},
   "outputs": [
    {
     "name": "stdout",
     "output_type": "stream",
     "text": [
      "PCA(copy=True, iterated_power='auto', n_components=0.6, random_state=None,\n",
      "  svd_solver='auto', tol=0.0, whiten=False)\n"
     ]
    },
    {
     "data": {
      "text/plain": [
       "112"
      ]
     },
     "execution_count": 57,
     "metadata": {},
     "output_type": "execute_result"
    }
   ],
   "source": [
    "from sklearn.decomposition import PCA\n",
    "pca=PCA(.6)## It explains only 60% of information of data (variance)\n",
    "#pca = PCA(n_components=100)\n",
    "print(pca)\n",
    "cat_cols2=pca.fit_transform(cat_cols1)\n",
    "#pca.explained_variance_ratio_\n",
    "pca_components=pca.n_components_\n",
    "pca_components"
   ]
  },
  {
   "cell_type": "code",
   "execution_count": 58,
   "metadata": {},
   "outputs": [
    {
     "name": "stdout",
     "output_type": "stream",
     "text": [
      "[ 0.03350274  0.02613767  0.02411805  0.02146933  0.02006292  0.01910225\n",
      "  0.01855819  0.01642644  0.01621607  0.0157976   0.01571212  0.01559806\n",
      "  0.01550516  0.01542745  0.01533606  0.01486635  0.01483331  0.01463641\n",
      "  0.01303496  0.01213116  0.01189699  0.00740404  0.00543679  0.00502985\n",
      "  0.00498448  0.00488564  0.00473948  0.00470218  0.00451724  0.00451372\n",
      "  0.00434791  0.00430372  0.00424007  0.00405688  0.00403836  0.00398522\n",
      "  0.00389248  0.00385732  0.00373906  0.0036651   0.00348286  0.00328711\n",
      "  0.00302149  0.00301137  0.00298769  0.00274997  0.00266488  0.00263963\n",
      "  0.00261561  0.0025937   0.00254332  0.00253395  0.00250301  0.00244813\n",
      "  0.00241428  0.00239693  0.00237741  0.00235993  0.00233806  0.0023049\n",
      "  0.00229715  0.00227464  0.00223866  0.00221888  0.00220338  0.0021727\n",
      "  0.00215874  0.00212912  0.0021215   0.00210073  0.00206269  0.00204013\n",
      "  0.00201542  0.00199646  0.00198039  0.00194244  0.00193516  0.00191043\n",
      "  0.00188801  0.00186487  0.00183512  0.00180315  0.00180067  0.00176597\n",
      "  0.00174281  0.00172632  0.00169384  0.00168004  0.00166408  0.00163898\n",
      "  0.00163281  0.00159349  0.00158803  0.00157414  0.00153005  0.00151593\n",
      "  0.00150521  0.00149021  0.00148121  0.00146857  0.00146217  0.00144499\n",
      "  0.00144013  0.00142718  0.00140767  0.0013947   0.00138777  0.00138123\n",
      "  0.00137157  0.00134116  0.00133436  0.00132034]\n"
     ]
    },
    {
     "data": {
      "image/png": "[encoded data removed]",
      "text/plain": [
       "<matplotlib.figure.Figure at 0x24709a24b38>"
      ]
     },
     "metadata": {},
     "output_type": "display_data"
    }
   ],
   "source": [
    "#The amount of variance that each PC explains\n",
    "var= pca.explained_variance_ratio_\n",
    "print(var)\n",
    "plt.plot(var)\n",
    "plt.show()"
   ]
  },
  {
   "cell_type": "code",
   "execution_count": 59,
   "metadata": {},
   "outputs": [
    {
     "name": "stdout",
     "output_type": "stream",
     "text": [
      "[  3.35   5.96   8.37  10.52  12.53  14.44  16.3   17.94  19.56  21.14\n",
      "  22.71  24.27  25.82  27.36  28.89  30.38  31.86  33.32  34.62  35.83\n",
      "  37.02  37.76  38.3   38.8   39.3   39.79  40.26  40.73  41.18  41.63\n",
      "  42.06  42.49  42.91  43.32  43.72  44.12  44.51  44.9   45.27  45.64\n",
      "  45.99  46.32  46.62  46.92  47.22  47.49  47.76  48.02  48.28  48.54\n",
      "  48.79  49.04  49.29  49.53  49.77  50.01  50.25  50.49  50.72  50.95\n",
      "  51.18  51.41  51.63  51.85  52.07  52.29  52.51  52.72  52.93  53.14\n",
      "  53.35  53.55  53.75  53.95  54.15  54.34  54.53  54.72  54.91  55.1\n",
      "  55.28  55.46  55.64  55.82  55.99  56.16  56.33  56.5   56.67  56.83\n",
      "  56.99  57.15  57.31  57.47  57.62  57.77  57.92  58.07  58.22  58.37\n",
      "  58.52  58.66  58.8   58.94  59.08  59.22  59.36  59.5   59.64  59.77\n",
      "  59.9   60.03]\n"
     ]
    },
    {
     "data": {
      "image/png": "[encoded data removed]",
      "text/plain": [
       "<matplotlib.figure.Figure at 0x2470998eac8>"
      ]
     },
     "metadata": {},
     "output_type": "display_data"
    }
   ],
   "source": [
    "#Cumulative Variance explains\n",
    "var1=np.cumsum(np.round(pca.explained_variance_ratio_, decimals=4)*100)\n",
    "print(var1)\n",
    "plt.plot(var1)\n",
    "plt.show()"
   ]
  },
  {
   "cell_type": "code",
   "execution_count": 60,
   "metadata": {},
   "outputs": [
    {
     "data": {
      "text/html": [
       "<div>\n",
       "<style>\n",
       "    .dataframe thead tr:only-child th {\n",
       "        text-align: right;\n",
       "    }\n",
       "\n",
       "    .dataframe thead th {\n",
       "        text-align: left;\n",
       "    }\n",
       "\n",
       "    .dataframe tbody tr th {\n",
       "        vertical-align: top;\n",
       "    }\n",
       "</style>\n",
       "<table border=\"1\" class=\"dataframe\">\n",
       "  <thead>\n",
       "    <tr style=\"text-align: right;\">\n",
       "      <th></th>\n",
       "      <th>0</th>\n",
       "      <th>1</th>\n",
       "      <th>2</th>\n",
       "      <th>3</th>\n",
       "      <th>4</th>\n",
       "      <th>5</th>\n",
       "      <th>6</th>\n",
       "      <th>7</th>\n",
       "      <th>8</th>\n",
       "      <th>9</th>\n",
       "      <th>...</th>\n",
       "      <th>102</th>\n",
       "      <th>103</th>\n",
       "      <th>104</th>\n",
       "      <th>105</th>\n",
       "      <th>106</th>\n",
       "      <th>107</th>\n",
       "      <th>108</th>\n",
       "      <th>109</th>\n",
       "      <th>110</th>\n",
       "      <th>111</th>\n",
       "    </tr>\n",
       "  </thead>\n",
       "  <tbody>\n",
       "    <tr>\n",
       "      <th>0</th>\n",
       "      <td>8.970085</td>\n",
       "      <td>-8.354157</td>\n",
       "      <td>1.949940</td>\n",
       "      <td>-5.984306</td>\n",
       "      <td>0.884079</td>\n",
       "      <td>-10.691276</td>\n",
       "      <td>3.633005</td>\n",
       "      <td>-0.625742</td>\n",
       "      <td>-0.867318</td>\n",
       "      <td>-0.583248</td>\n",
       "      <td>...</td>\n",
       "      <td>-0.123187</td>\n",
       "      <td>0.352119</td>\n",
       "      <td>0.691768</td>\n",
       "      <td>-1.205627</td>\n",
       "      <td>-0.125198</td>\n",
       "      <td>0.226415</td>\n",
       "      <td>-0.561021</td>\n",
       "      <td>0.304816</td>\n",
       "      <td>-1.186712</td>\n",
       "      <td>2.335950</td>\n",
       "    </tr>\n",
       "    <tr>\n",
       "      <th>1</th>\n",
       "      <td>10.912211</td>\n",
       "      <td>18.531041</td>\n",
       "      <td>-6.028871</td>\n",
       "      <td>-3.100964</td>\n",
       "      <td>0.172975</td>\n",
       "      <td>-4.606724</td>\n",
       "      <td>2.082035</td>\n",
       "      <td>-0.277228</td>\n",
       "      <td>-0.443578</td>\n",
       "      <td>-0.347227</td>\n",
       "      <td>...</td>\n",
       "      <td>-0.933091</td>\n",
       "      <td>0.246356</td>\n",
       "      <td>0.263441</td>\n",
       "      <td>-0.633108</td>\n",
       "      <td>-0.234666</td>\n",
       "      <td>-1.039856</td>\n",
       "      <td>-1.006652</td>\n",
       "      <td>0.420565</td>\n",
       "      <td>1.178469</td>\n",
       "      <td>-1.918150</td>\n",
       "    </tr>\n",
       "    <tr>\n",
       "      <th>2</th>\n",
       "      <td>-5.342912</td>\n",
       "      <td>0.039013</td>\n",
       "      <td>-1.278549</td>\n",
       "      <td>-1.744454</td>\n",
       "      <td>-0.793927</td>\n",
       "      <td>5.162497</td>\n",
       "      <td>3.356655</td>\n",
       "      <td>0.671431</td>\n",
       "      <td>1.157614</td>\n",
       "      <td>0.029547</td>\n",
       "      <td>...</td>\n",
       "      <td>-0.620730</td>\n",
       "      <td>-1.083237</td>\n",
       "      <td>-6.090651</td>\n",
       "      <td>12.858940</td>\n",
       "      <td>-3.257101</td>\n",
       "      <td>-10.680439</td>\n",
       "      <td>4.437262</td>\n",
       "      <td>-1.467870</td>\n",
       "      <td>-13.024575</td>\n",
       "      <td>-8.829755</td>\n",
       "    </tr>\n",
       "    <tr>\n",
       "      <th>3</th>\n",
       "      <td>2.316523</td>\n",
       "      <td>-4.810731</td>\n",
       "      <td>-2.432952</td>\n",
       "      <td>-3.716392</td>\n",
       "      <td>-0.258858</td>\n",
       "      <td>-0.354359</td>\n",
       "      <td>3.940854</td>\n",
       "      <td>0.346943</td>\n",
       "      <td>1.052219</td>\n",
       "      <td>1.297056</td>\n",
       "      <td>...</td>\n",
       "      <td>-0.366702</td>\n",
       "      <td>0.021409</td>\n",
       "      <td>0.789780</td>\n",
       "      <td>-1.270624</td>\n",
       "      <td>-0.339959</td>\n",
       "      <td>-1.498100</td>\n",
       "      <td>0.128498</td>\n",
       "      <td>0.869914</td>\n",
       "      <td>0.100437</td>\n",
       "      <td>-0.130997</td>\n",
       "    </tr>\n",
       "    <tr>\n",
       "      <th>4</th>\n",
       "      <td>6.691256</td>\n",
       "      <td>0.986666</td>\n",
       "      <td>2.896656</td>\n",
       "      <td>4.374686</td>\n",
       "      <td>0.951628</td>\n",
       "      <td>-4.315203</td>\n",
       "      <td>-14.820971</td>\n",
       "      <td>2.984377</td>\n",
       "      <td>-5.247928</td>\n",
       "      <td>-2.266588</td>\n",
       "      <td>...</td>\n",
       "      <td>1.695376</td>\n",
       "      <td>1.231871</td>\n",
       "      <td>0.843085</td>\n",
       "      <td>0.371154</td>\n",
       "      <td>-1.297397</td>\n",
       "      <td>0.139320</td>\n",
       "      <td>-0.003028</td>\n",
       "      <td>-1.411647</td>\n",
       "      <td>0.254739</td>\n",
       "      <td>-1.498484</td>\n",
       "    </tr>\n",
       "  </tbody>\n",
       "</table>\n",
       "<p>5 rows × 112 columns</p>\n",
       "</div>"
      ],
      "text/plain": [
       "         0          1         2         3         4          5          6    \\\n",
       "0   8.970085  -8.354157  1.949940 -5.984306  0.884079 -10.691276   3.633005   \n",
       "1  10.912211  18.531041 -6.028871 -3.100964  0.172975  -4.606724   2.082035   \n",
       "2  -5.342912   0.039013 -1.278549 -1.744454 -0.793927   5.162497   3.356655   \n",
       "3   2.316523  -4.810731 -2.432952 -3.716392 -0.258858  -0.354359   3.940854   \n",
       "4   6.691256   0.986666  2.896656  4.374686  0.951628  -4.315203 -14.820971   \n",
       "\n",
       "        7         8         9      ...          102       103       104  \\\n",
       "0 -0.625742 -0.867318 -0.583248    ...    -0.123187  0.352119  0.691768   \n",
       "1 -0.277228 -0.443578 -0.347227    ...    -0.933091  0.246356  0.263441   \n",
       "2  0.671431  1.157614  0.029547    ...    -0.620730 -1.083237 -6.090651   \n",
       "3  0.346943  1.052219  1.297056    ...    -0.366702  0.021409  0.789780   \n",
       "4  2.984377 -5.247928 -2.266588    ...     1.695376  1.231871  0.843085   \n",
       "\n",
       "         105       106        107       108       109        110       111  \n",
       "0  -1.205627 -0.125198   0.226415 -0.561021  0.304816  -1.186712  2.335950  \n",
       "1  -0.633108 -0.234666  -1.039856 -1.006652  0.420565   1.178469 -1.918150  \n",
       "2  12.858940 -3.257101 -10.680439  4.437262 -1.467870 -13.024575 -8.829755  \n",
       "3  -1.270624 -0.339959  -1.498100  0.128498  0.869914   0.100437 -0.130997  \n",
       "4   0.371154 -1.297397   0.139320 -0.003028 -1.411647   0.254739 -1.498484  \n",
       "\n",
       "[5 rows x 112 columns]"
      ]
     },
     "execution_count": 60,
     "metadata": {},
     "output_type": "execute_result"
    }
   ],
   "source": [
    "cat_cols3=pd.DataFrame(cat_cols2,columns=range(pca_components))\n",
    "cat_cols3.head()"
   ]
  },
  {
   "cell_type": "markdown",
   "metadata": {},
   "source": [
    "## Concat numerical and categorical data"
   ]
  },
  {
   "cell_type": "code",
   "execution_count": 61,
   "metadata": {},
   "outputs": [
    {
     "data": {
      "text/html": [
       "<div>\n",
       "<style>\n",
       "    .dataframe thead tr:only-child th {\n",
       "        text-align: right;\n",
       "    }\n",
       "\n",
       "    .dataframe thead th {\n",
       "        text-align: left;\n",
       "    }\n",
       "\n",
       "    .dataframe tbody tr th {\n",
       "        vertical-align: top;\n",
       "    }\n",
       "</style>\n",
       "<table border=\"1\" class=\"dataframe\">\n",
       "  <thead>\n",
       "    <tr style=\"text-align: right;\">\n",
       "      <th></th>\n",
       "      <th>0</th>\n",
       "      <th>1</th>\n",
       "      <th>2</th>\n",
       "      <th>3</th>\n",
       "      <th>4</th>\n",
       "      <th>5</th>\n",
       "      <th>6</th>\n",
       "      <th>7</th>\n",
       "      <th>8</th>\n",
       "      <th>9</th>\n",
       "      <th>...</th>\n",
       "      <th>102</th>\n",
       "      <th>103</th>\n",
       "      <th>104</th>\n",
       "      <th>105</th>\n",
       "      <th>106</th>\n",
       "      <th>107</th>\n",
       "      <th>108</th>\n",
       "      <th>109</th>\n",
       "      <th>110</th>\n",
       "      <th>111</th>\n",
       "    </tr>\n",
       "  </thead>\n",
       "  <tbody>\n",
       "    <tr>\n",
       "      <th>0</th>\n",
       "      <td>6.076627</td>\n",
       "      <td>-0.575677</td>\n",
       "      <td>-0.841880</td>\n",
       "      <td>2.313944</td>\n",
       "      <td>0.844188</td>\n",
       "      <td>-1.124082</td>\n",
       "      <td>-2.584006</td>\n",
       "      <td>-0.594535</td>\n",
       "      <td>0.939601</td>\n",
       "      <td>-0.818944</td>\n",
       "      <td>...</td>\n",
       "      <td>-0.123187</td>\n",
       "      <td>0.352119</td>\n",
       "      <td>0.691768</td>\n",
       "      <td>-1.205627</td>\n",
       "      <td>-0.125198</td>\n",
       "      <td>0.226415</td>\n",
       "      <td>-0.561021</td>\n",
       "      <td>0.304816</td>\n",
       "      <td>-1.186712</td>\n",
       "      <td>2.335950</td>\n",
       "    </tr>\n",
       "    <tr>\n",
       "      <th>1</th>\n",
       "      <td>3.836042</td>\n",
       "      <td>0.261186</td>\n",
       "      <td>-0.171489</td>\n",
       "      <td>2.210323</td>\n",
       "      <td>-0.552976</td>\n",
       "      <td>-1.470234</td>\n",
       "      <td>-0.944588</td>\n",
       "      <td>-0.087564</td>\n",
       "      <td>0.673511</td>\n",
       "      <td>0.924485</td>\n",
       "      <td>...</td>\n",
       "      <td>-0.933091</td>\n",
       "      <td>0.246356</td>\n",
       "      <td>0.263441</td>\n",
       "      <td>-0.633108</td>\n",
       "      <td>-0.234666</td>\n",
       "      <td>-1.039856</td>\n",
       "      <td>-1.006652</td>\n",
       "      <td>0.420565</td>\n",
       "      <td>1.178469</td>\n",
       "      <td>-1.918150</td>\n",
       "    </tr>\n",
       "    <tr>\n",
       "      <th>2</th>\n",
       "      <td>4.018008</td>\n",
       "      <td>3.167597</td>\n",
       "      <td>-0.223201</td>\n",
       "      <td>-1.768088</td>\n",
       "      <td>-0.478885</td>\n",
       "      <td>-2.902527</td>\n",
       "      <td>0.474748</td>\n",
       "      <td>-0.042028</td>\n",
       "      <td>-0.159062</td>\n",
       "      <td>0.415008</td>\n",
       "      <td>...</td>\n",
       "      <td>-0.620730</td>\n",
       "      <td>-1.083237</td>\n",
       "      <td>-6.090651</td>\n",
       "      <td>12.858940</td>\n",
       "      <td>-3.257101</td>\n",
       "      <td>-10.680439</td>\n",
       "      <td>4.437262</td>\n",
       "      <td>-1.467870</td>\n",
       "      <td>-13.024575</td>\n",
       "      <td>-8.829755</td>\n",
       "    </tr>\n",
       "    <tr>\n",
       "      <th>3</th>\n",
       "      <td>0.770249</td>\n",
       "      <td>0.819915</td>\n",
       "      <td>-0.247511</td>\n",
       "      <td>-1.506793</td>\n",
       "      <td>0.210980</td>\n",
       "      <td>1.277786</td>\n",
       "      <td>0.028599</td>\n",
       "      <td>1.994898</td>\n",
       "      <td>-0.369985</td>\n",
       "      <td>-0.451570</td>\n",
       "      <td>...</td>\n",
       "      <td>-0.366702</td>\n",
       "      <td>0.021409</td>\n",
       "      <td>0.789780</td>\n",
       "      <td>-1.270624</td>\n",
       "      <td>-0.339959</td>\n",
       "      <td>-1.498100</td>\n",
       "      <td>0.128498</td>\n",
       "      <td>0.869914</td>\n",
       "      <td>0.100437</td>\n",
       "      <td>-0.130997</td>\n",
       "    </tr>\n",
       "    <tr>\n",
       "      <th>4</th>\n",
       "      <td>1.525670</td>\n",
       "      <td>0.431122</td>\n",
       "      <td>3.045903</td>\n",
       "      <td>1.629937</td>\n",
       "      <td>-2.787773</td>\n",
       "      <td>0.009762</td>\n",
       "      <td>-2.714656</td>\n",
       "      <td>1.502891</td>\n",
       "      <td>0.979560</td>\n",
       "      <td>2.698379</td>\n",
       "      <td>...</td>\n",
       "      <td>1.695376</td>\n",
       "      <td>1.231871</td>\n",
       "      <td>0.843085</td>\n",
       "      <td>0.371154</td>\n",
       "      <td>-1.297397</td>\n",
       "      <td>0.139320</td>\n",
       "      <td>-0.003028</td>\n",
       "      <td>-1.411647</td>\n",
       "      <td>0.254739</td>\n",
       "      <td>-1.498484</td>\n",
       "    </tr>\n",
       "  </tbody>\n",
       "</table>\n",
       "<p>5 rows × 150 columns</p>\n",
       "</div>"
      ],
      "text/plain": [
       "        0         1         2         3         4         5         6    \\\n",
       "0  6.076627 -0.575677 -0.841880  2.313944  0.844188 -1.124082 -2.584006   \n",
       "1  3.836042  0.261186 -0.171489  2.210323 -0.552976 -1.470234 -0.944588   \n",
       "2  4.018008  3.167597 -0.223201 -1.768088 -0.478885 -2.902527  0.474748   \n",
       "3  0.770249  0.819915 -0.247511 -1.506793  0.210980  1.277786  0.028599   \n",
       "4  1.525670  0.431122  3.045903  1.629937 -2.787773  0.009762 -2.714656   \n",
       "\n",
       "        7         8         9      ...          102       103       104  \\\n",
       "0 -0.594535  0.939601 -0.818944    ...    -0.123187  0.352119  0.691768   \n",
       "1 -0.087564  0.673511  0.924485    ...    -0.933091  0.246356  0.263441   \n",
       "2 -0.042028 -0.159062  0.415008    ...    -0.620730 -1.083237 -6.090651   \n",
       "3  1.994898 -0.369985 -0.451570    ...    -0.366702  0.021409  0.789780   \n",
       "4  1.502891  0.979560  2.698379    ...     1.695376  1.231871  0.843085   \n",
       "\n",
       "         105       106        107       108       109        110       111  \n",
       "0  -1.205627 -0.125198   0.226415 -0.561021  0.304816  -1.186712  2.335950  \n",
       "1  -0.633108 -0.234666  -1.039856 -1.006652  0.420565   1.178469 -1.918150  \n",
       "2  12.858940 -3.257101 -10.680439  4.437262 -1.467870 -13.024575 -8.829755  \n",
       "3  -1.270624 -0.339959  -1.498100  0.128498  0.869914   0.100437 -0.130997  \n",
       "4   0.371154 -1.297397   0.139320 -0.003028 -1.411647   0.254739 -1.498484  \n",
       "\n",
       "[5 rows x 150 columns]"
      ]
     },
     "execution_count": 61,
     "metadata": {},
     "output_type": "execute_result"
    }
   ],
   "source": [
    "train_data2=pd.concat([num_cols3,cat_cols3],axis=1)\n",
    "#train_data2=pd.merge(numeric_cols,cat_cols,on='id',how='outer')\n",
    "\n",
    "train_data2.shape\n",
    "train_data2.head()"
   ]
  },
  {
   "cell_type": "markdown",
   "metadata": {},
   "source": [
    "## Import lables data(dependent)"
   ]
  },
  {
   "cell_type": "code",
   "execution_count": 62,
   "metadata": {},
   "outputs": [
    {
     "data": {
      "text/plain": [
       "id           134128917\n",
       "service_a         6909\n",
       "service_b         4852\n",
       "service_c         3868\n",
       "service_d          225\n",
       "dtype: int64"
      ]
     },
     "execution_count": 62,
     "metadata": {},
     "output_type": "execute_result"
    }
   ],
   "source": [
    "train_labels= pd.read_csv(\"D:\\\\Capstone project\\\\Capstone Project\\\\train labels.csv\")\n",
    "\n",
    "#train_labels.shape\n",
    "#(14644, 15)\n",
    "train_labels.sum().head()"
   ]
  },
  {
   "cell_type": "markdown",
   "metadata": {},
   "source": [
    "### servive_j-->12445\n",
    "### service_k-->11409"
   ]
  },
  {
   "cell_type": "code",
   "execution_count": 63,
   "metadata": {},
   "outputs": [
    {
     "data": {
      "text/html": [
       "<div>\n",
       "<style>\n",
       "    .dataframe thead tr:only-child th {\n",
       "        text-align: right;\n",
       "    }\n",
       "\n",
       "    .dataframe thead th {\n",
       "        text-align: left;\n",
       "    }\n",
       "\n",
       "    .dataframe tbody tr th {\n",
       "        vertical-align: top;\n",
       "    }\n",
       "</style>\n",
       "<table border=\"1\" class=\"dataframe\">\n",
       "  <thead>\n",
       "    <tr style=\"text-align: right;\">\n",
       "      <th></th>\n",
       "      <th>service_j</th>\n",
       "    </tr>\n",
       "  </thead>\n",
       "  <tbody>\n",
       "    <tr>\n",
       "      <th>0</th>\n",
       "      <td>1</td>\n",
       "    </tr>\n",
       "    <tr>\n",
       "      <th>1</th>\n",
       "      <td>1</td>\n",
       "    </tr>\n",
       "    <tr>\n",
       "      <th>2</th>\n",
       "      <td>1</td>\n",
       "    </tr>\n",
       "    <tr>\n",
       "      <th>3</th>\n",
       "      <td>1</td>\n",
       "    </tr>\n",
       "    <tr>\n",
       "      <th>4</th>\n",
       "      <td>0</td>\n",
       "    </tr>\n",
       "  </tbody>\n",
       "</table>\n",
       "</div>"
      ],
      "text/plain": [
       "   service_j\n",
       "0          1\n",
       "1          1\n",
       "2          1\n",
       "3          1\n",
       "4          0"
      ]
     },
     "execution_count": 63,
     "metadata": {},
     "output_type": "execute_result"
    }
   ],
   "source": [
    "train_labels1=pd.DataFrame(train_labels['service_j'])\n",
    "train_labels1.shape\n",
    "train_labels1.head()"
   ]
  },
  {
   "cell_type": "code",
   "execution_count": 64,
   "metadata": {
    "collapsed": true
   },
   "outputs": [],
   "source": [
    "X=train_data2\n",
    "X=np.array(train_data2)\n",
    "y=train_labels1\n",
    "y=np.array(train_labels1).ravel()\n",
    "names=train_data2.columns\n",
    "#data=pd.concat([X,y],axis=1)\n",
    "#data.head()\n",
    "#data=np.array(data)\n",
    "#data.shape"
   ]
  },
  {
   "cell_type": "code",
   "execution_count": 65,
   "metadata": {},
   "outputs": [
    {
     "data": {
      "text/plain": [
       "(14644,)"
      ]
     },
     "execution_count": 65,
     "metadata": {},
     "output_type": "execute_result"
    }
   ],
   "source": [
    "y.shape"
   ]
  },
  {
   "cell_type": "code",
   "execution_count": 66,
   "metadata": {},
   "outputs": [
    {
     "data": {
      "text/plain": [
       "(3661, 1379)"
      ]
     },
     "execution_count": 66,
     "metadata": {},
     "output_type": "execute_result"
    }
   ],
   "source": [
    "test_data= pd.read_csv(\"D:\\\\Capstone project\\\\Capstone Project\\\\test Data.csv\",low_memory=False)\n",
    "test_data.shape"
   ]
  },
  {
   "cell_type": "code",
   "execution_count": 67,
   "metadata": {
    "collapsed": true
   },
   "outputs": [],
   "source": [
    "#train_data2-->(14644, 145)\n",
    "#test_data-->(3661, 1379)"
   ]
  },
  {
   "cell_type": "markdown",
   "metadata": {},
   "source": [
    "### service_j --> 12445\n",
    "### service_k -->11409\n",
    "These 2 services are better to build model."
   ]
  },
  {
   "cell_type": "markdown",
   "metadata": {},
   "source": [
    "## Build the model"
   ]
  },
  {
   "cell_type": "code",
   "execution_count": 68,
   "metadata": {},
   "outputs": [
    {
     "name": "stderr",
     "output_type": "stream",
     "text": [
      "C:\\Users\\hp\\Anaconda3\\lib\\site-packages\\sklearn\\cross_validation.py:41: DeprecationWarning: This module was deprecated in version 0.18 in favor of the model_selection module into which all the refactored classes and functions are moved. Also note that the interface of the new CV iterators are different from that of this module. This module will be removed in 0.20.\n",
      "  \"This module will be removed in 0.20.\", DeprecationWarning)\n"
     ]
    }
   ],
   "source": [
    "import xgboost as xgb\n",
    "from sklearn.model_selection import train_test_split\n",
    "#from sklearn.metrics import accuracy_score\n",
    "from sklearn.model_selection import cross_val_score\n",
    "\n",
    "#X, y = data.make_classification(n_samples=500, n_features=none,  n_informative=2, n_redundant=10,random_state=42)\n",
    "X_train, X_test, y_train, y_test = train_test_split(X, y, test_size=0.3,  \n",
    "                                                    random_state=42)"
   ]
  },
  {
   "cell_type": "markdown",
   "metadata": {},
   "source": [
    "#model=xgboost.XGBClassifier()\n",
    "#model.fit(np.array(X),y)\n",
    "#print(model)"
   ]
  },
  {
   "cell_type": "code",
   "execution_count": 73,
   "metadata": {
    "collapsed": true
   },
   "outputs": [],
   "source": [
    "from xgboost.sklearn import XGBClassifier \n",
    "\n",
    "from sklearn.grid_search import GridSearchCV\n",
    "\n",
    "cv_params = {'max_depth': [3,5,7], \n",
    "             'min_child_weight': [3,5]}\n",
    "\n",
    "ind_params = {'learning_rate': 0.3, 'n_estimators': 200, 'seed':27, 'subsample': 0.8, 'colsample_bytree': 0.8, \n",
    "             'objective': 'binary:logistic'}\n",
    "optimized_xgb = GridSearchCV(xgb.XGBClassifier(ind_params), \n",
    "                            cv_params, \n",
    "                             scoring = 'accuracy', \n",
    "                             cv = 5,\n",
    "                             n_jobs = -1) \n",
    "# Optimize for accuracy since that is the metric"
   ]
  },
  {
   "cell_type": "code",
   "execution_count": 74,
   "metadata": {
    "scrolled": true
   },
   "outputs": [
    {
     "data": {
      "text/plain": [
       "GridSearchCV(cv=5, error_score='raise',\n",
       "       estimator=XGBClassifier(base_score=0.5, colsample_bylevel=1, colsample_bytree=1,\n",
       "       gamma=0, learning_rate=0.1, max_delta_step=0,\n",
       "       max_depth={'learning_rate': 0.3, 'n_estimators': 200, 'seed': 27, 'subsample': 0.8, 'colsample_bytree': 0.8, 'objective': 'binary:logistic'},\n",
       "       min_child_weight=1, missing=None, n_estimators=100, nthread=-1,\n",
       "       objective='binary:logistic', reg_alpha=0, reg_lambda=1,\n",
       "       scale_pos_weight=1, seed=0, silent=True, subsample=1),\n",
       "       fit_params={}, iid=True, n_jobs=-1,\n",
       "       param_grid={'max_depth': [3, 5, 7], 'min_child_weight': [3, 5]},\n",
       "       pre_dispatch='2*n_jobs', refit=True, scoring='accuracy', verbose=0)"
      ]
     },
     "execution_count": 74,
     "metadata": {},
     "output_type": "execute_result"
    }
   ],
   "source": [
    "optimized_xgb.fit(X_train, y_train)\n"
   ]
  },
  {
   "cell_type": "code",
   "execution_count": 75,
   "metadata": {},
   "outputs": [
    {
     "data": {
      "text/plain": [
       "[mean: 0.85990, std: 0.00482, params: {'max_depth': 3, 'min_child_weight': 3},\n",
       " mean: 0.86107, std: 0.00409, params: {'max_depth': 3, 'min_child_weight': 5},\n",
       " mean: 0.86010, std: 0.00311, params: {'max_depth': 5, 'min_child_weight': 3},\n",
       " mean: 0.86020, std: 0.00308, params: {'max_depth': 5, 'min_child_weight': 5},\n",
       " mean: 0.85941, std: 0.00421, params: {'max_depth': 7, 'min_child_weight': 3},\n",
       " mean: 0.86195, std: 0.00417, params: {'max_depth': 7, 'min_child_weight': 5}]"
      ]
     },
     "execution_count": 75,
     "metadata": {},
     "output_type": "execute_result"
    }
   ],
   "source": [
    "optimized_xgb.grid_scores_\n"
   ]
  },
  {
   "cell_type": "markdown",
   "metadata": {},
   "source": [
    "### Early stopping CV\n",
    "Based on the CV testing performed earlier, we want to utilize the following parameters:\n",
    "\n",
    "Learning_rate (eta) = 0.1\n",
    "Subsample, colsample_bytree = 0.8\n",
    "Max_depth = 7\n",
    "Min_child_weight = 5"
   ]
  },
  {
   "cell_type": "code",
   "execution_count": 76,
   "metadata": {
    "collapsed": true
   },
   "outputs": [],
   "source": [
    "xgdmat = xgb.DMatrix(X_train, y_train) # Create our DMatrix to make XGBoost more efficient\n"
   ]
  },
  {
   "cell_type": "code",
   "execution_count": 77,
   "metadata": {
    "collapsed": true
   },
   "outputs": [],
   "source": [
    "our_params = {'eta': 0.1, 'seed':27, 'subsample': 0.8, 'colsample_bytree': 0.8, \n",
    "             'objective': 'binary:logistic', 'max_depth':7, 'min_child_weight':5} \n",
    "\n",
    "# Grid Search CV optimized settings\n",
    "\n",
    "cv_xgb = xgb.cv(params = our_params, dtrain = xgdmat, num_boost_round = 1000, nfold = 5,\n",
    "                metrics = ['error'], # Make sure you enter metrics inside a list or you may encounter issues!\n",
    "                early_stopping_rounds = 100) # Look for early stopping that minimizes error"
   ]
  },
  {
   "cell_type": "code",
   "execution_count": 78,
   "metadata": {},
   "outputs": [
    {
     "data": {
      "text/html": [
       "<div>\n",
       "<style>\n",
       "    .dataframe thead tr:only-child th {\n",
       "        text-align: right;\n",
       "    }\n",
       "\n",
       "    .dataframe thead th {\n",
       "        text-align: left;\n",
       "    }\n",
       "\n",
       "    .dataframe tbody tr th {\n",
       "        vertical-align: top;\n",
       "    }\n",
       "</style>\n",
       "<table border=\"1\" class=\"dataframe\">\n",
       "  <thead>\n",
       "    <tr style=\"text-align: right;\">\n",
       "      <th></th>\n",
       "      <th>test-error-mean</th>\n",
       "      <th>test-error-std</th>\n",
       "      <th>train-error-mean</th>\n",
       "      <th>train-error-std</th>\n",
       "    </tr>\n",
       "  </thead>\n",
       "  <tbody>\n",
       "    <tr>\n",
       "      <th>18</th>\n",
       "      <td>0.141268</td>\n",
       "      <td>0.002629</td>\n",
       "      <td>0.114463</td>\n",
       "      <td>0.001673</td>\n",
       "    </tr>\n",
       "    <tr>\n",
       "      <th>19</th>\n",
       "      <td>0.141366</td>\n",
       "      <td>0.002884</td>\n",
       "      <td>0.113756</td>\n",
       "      <td>0.001379</td>\n",
       "    </tr>\n",
       "    <tr>\n",
       "      <th>20</th>\n",
       "      <td>0.141268</td>\n",
       "      <td>0.002985</td>\n",
       "      <td>0.113488</td>\n",
       "      <td>0.001419</td>\n",
       "    </tr>\n",
       "    <tr>\n",
       "      <th>21</th>\n",
       "      <td>0.141268</td>\n",
       "      <td>0.003094</td>\n",
       "      <td>0.112488</td>\n",
       "      <td>0.001350</td>\n",
       "    </tr>\n",
       "    <tr>\n",
       "      <th>22</th>\n",
       "      <td>0.140390</td>\n",
       "      <td>0.003060</td>\n",
       "      <td>0.111854</td>\n",
       "      <td>0.000980</td>\n",
       "    </tr>\n",
       "  </tbody>\n",
       "</table>\n",
       "</div>"
      ],
      "text/plain": [
       "    test-error-mean  test-error-std  train-error-mean  train-error-std\n",
       "18         0.141268        0.002629          0.114463         0.001673\n",
       "19         0.141366        0.002884          0.113756         0.001379\n",
       "20         0.141268        0.002985          0.113488         0.001419\n",
       "21         0.141268        0.003094          0.112488         0.001350\n",
       "22         0.140390        0.003060          0.111854         0.000980"
      ]
     },
     "execution_count": 78,
     "metadata": {},
     "output_type": "execute_result"
    }
   ],
   "source": [
    "cv_xgb.tail(5)"
   ]
  },
  {
   "cell_type": "code",
   "execution_count": null,
   "metadata": {
    "collapsed": true
   },
   "outputs": [],
   "source": [
    "our_params = {'eta': 0.1, 'seed':27, 'subsample': 0.8, 'colsample_bytree': 0.8, \n",
    "             'objective': 'binary:logistic', 'max_depth':7, 'min_child_weight':5} \n",
    "\n",
    "final_gb = xgb.train(our_params, xgdmat, num_boost_round = 100)"
   ]
  },
  {
   "cell_type": "code",
   "execution_count": null,
   "metadata": {
    "collapsed": true
   },
   "outputs": [],
   "source": [
    "%matplotlib inline\n",
    "import seaborn as sns\n",
    "sns.set(font_scale = 1.5)"
   ]
  },
  {
   "cell_type": "code",
   "execution_count": 55,
   "metadata": {},
   "outputs": [
    {
     "data": {
      "text/plain": [
       "<matplotlib.axes._subplots.AxesSubplot at 0x1faae12fcf8>"
      ]
     },
     "execution_count": 55,
     "metadata": {},
     "output_type": "execute_result"
    },
    {
     "data": {
      "image/png": "[encoded data removed]",
      "text/plain": [
       "<matplotlib.figure.Figure at 0x1faae32b048>"
      ]
     },
     "metadata": {},
     "output_type": "display_data"
    }
   ],
   "source": [
    "xgb.plot_importance(final_gb)\n"
   ]
  },
  {
   "cell_type": "code",
   "execution_count": 56,
   "metadata": {},
   "outputs": [
    {
     "data": {
      "text/plain": [
       "{'f0': 70,\n",
       " 'f1': 36,\n",
       " 'f10': 38,\n",
       " 'f100': 26,\n",
       " 'f101': 22,\n",
       " 'f102': 23,\n",
       " 'f103': 26,\n",
       " 'f104': 28,\n",
       " 'f105': 27,\n",
       " 'f106': 27,\n",
       " 'f107': 32,\n",
       " 'f108': 23,\n",
       " 'f109': 37,\n",
       " 'f11': 50,\n",
       " 'f110': 31,\n",
       " 'f111': 20,\n",
       " 'f112': 34,\n",
       " 'f113': 31,\n",
       " 'f114': 39,\n",
       " 'f115': 33,\n",
       " 'f116': 25,\n",
       " 'f117': 27,\n",
       " 'f118': 31,\n",
       " 'f119': 30,\n",
       " 'f12': 27,\n",
       " 'f120': 32,\n",
       " 'f121': 57,\n",
       " 'f122': 39,\n",
       " 'f123': 21,\n",
       " 'f124': 30,\n",
       " 'f125': 33,\n",
       " 'f126': 44,\n",
       " 'f127': 24,\n",
       " 'f128': 33,\n",
       " 'f129': 34,\n",
       " 'f13': 42,\n",
       " 'f130': 35,\n",
       " 'f131': 20,\n",
       " 'f132': 32,\n",
       " 'f133': 40,\n",
       " 'f134': 20,\n",
       " 'f135': 32,\n",
       " 'f136': 40,\n",
       " 'f137': 35,\n",
       " 'f138': 39,\n",
       " 'f139': 28,\n",
       " 'f14': 36,\n",
       " 'f140': 35,\n",
       " 'f141': 24,\n",
       " 'f142': 27,\n",
       " 'f143': 24,\n",
       " 'f144': 29,\n",
       " 'f15': 31,\n",
       " 'f16': 35,\n",
       " 'f17': 41,\n",
       " 'f18': 41,\n",
       " 'f19': 31,\n",
       " 'f2': 35,\n",
       " 'f20': 40,\n",
       " 'f21': 35,\n",
       " 'f22': 65,\n",
       " 'f23': 55,\n",
       " 'f24': 22,\n",
       " 'f25': 29,\n",
       " 'f26': 39,\n",
       " 'f27': 35,\n",
       " 'f28': 35,\n",
       " 'f29': 44,\n",
       " 'f3': 31,\n",
       " 'f30': 35,\n",
       " 'f31': 59,\n",
       " 'f32': 29,\n",
       " 'f33': 40,\n",
       " 'f34': 23,\n",
       " 'f35': 34,\n",
       " 'f36': 49,\n",
       " 'f37': 39,\n",
       " 'f38': 24,\n",
       " 'f39': 31,\n",
       " 'f4': 39,\n",
       " 'f40': 39,\n",
       " 'f41': 30,\n",
       " 'f42': 23,\n",
       " 'f43': 31,\n",
       " 'f44': 23,\n",
       " 'f45': 25,\n",
       " 'f46': 32,\n",
       " 'f47': 23,\n",
       " 'f48': 24,\n",
       " 'f49': 20,\n",
       " 'f5': 37,\n",
       " 'f50': 14,\n",
       " 'f51': 32,\n",
       " 'f52': 19,\n",
       " 'f53': 10,\n",
       " 'f54': 28,\n",
       " 'f55': 29,\n",
       " 'f56': 27,\n",
       " 'f57': 36,\n",
       " 'f58': 22,\n",
       " 'f59': 29,\n",
       " 'f6': 57,\n",
       " 'f60': 35,\n",
       " 'f61': 50,\n",
       " 'f62': 36,\n",
       " 'f63': 16,\n",
       " 'f64': 32,\n",
       " 'f65': 38,\n",
       " 'f66': 19,\n",
       " 'f67': 32,\n",
       " 'f68': 40,\n",
       " 'f69': 19,\n",
       " 'f7': 55,\n",
       " 'f70': 22,\n",
       " 'f71': 21,\n",
       " 'f72': 23,\n",
       " 'f73': 21,\n",
       " 'f74': 28,\n",
       " 'f75': 36,\n",
       " 'f76': 29,\n",
       " 'f77': 40,\n",
       " 'f78': 33,\n",
       " 'f79': 22,\n",
       " 'f8': 35,\n",
       " 'f80': 39,\n",
       " 'f81': 33,\n",
       " 'f82': 21,\n",
       " 'f83': 29,\n",
       " 'f84': 30,\n",
       " 'f85': 34,\n",
       " 'f86': 38,\n",
       " 'f87': 39,\n",
       " 'f88': 18,\n",
       " 'f89': 15,\n",
       " 'f9': 37,\n",
       " 'f90': 24,\n",
       " 'f91': 33,\n",
       " 'f92': 25,\n",
       " 'f93': 26,\n",
       " 'f94': 13,\n",
       " 'f95': 25,\n",
       " 'f96': 25,\n",
       " 'f97': 25,\n",
       " 'f98': 21,\n",
       " 'f99': 26}"
      ]
     },
     "execution_count": 56,
     "metadata": {},
     "output_type": "execute_result"
    }
   ],
   "source": [
    "importances = final_gb.get_fscore()\n",
    "importances"
   ]
  },
  {
   "cell_type": "code",
   "execution_count": 59,
   "metadata": {},
   "outputs": [
    {
     "data": {
      "text/plain": [
       "<matplotlib.axes._subplots.AxesSubplot at 0x1faafc6ed30>"
      ]
     },
     "execution_count": 59,
     "metadata": {},
     "output_type": "execute_result"
    },
    {
     "data": {
      "image/png": "[encoded data removed]",
      "text/plain": [
       "<matplotlib.figure.Figure at 0x1faafc30898>"
      ]
     },
     "metadata": {},
     "output_type": "display_data"
    }
   ],
   "source": [
    "importance_frame = pd.DataFrame({'Importance': list(importances.values()), 'Feature': list(importances.keys())})\n",
    "importance_frame.sort_values(by = 'Importance', inplace = True)\n",
    "importance_frame.plot(kind = 'barh', x = 'Feature', figsize = (10,10), color = 'orange')"
   ]
  },
  {
   "cell_type": "code",
   "execution_count": 60,
   "metadata": {
    "collapsed": true
   },
   "outputs": [],
   "source": [
    "testdmat = xgb.DMatrix(X_test)\n"
   ]
  },
  {
   "cell_type": "code",
   "execution_count": 61,
   "metadata": {},
   "outputs": [
    {
     "data": {
      "text/plain": [
       "array([ 0.88745236,  0.93854761,  0.60937059, ...,  0.89667243,\n",
       "        0.92213219,  0.94421703], dtype=float32)"
      ]
     },
     "execution_count": 61,
     "metadata": {},
     "output_type": "execute_result"
    }
   ],
   "source": [
    "from sklearn.metrics import accuracy_score\n",
    "y_pred = final_gb.predict(testdmat) # Predict using our testdmat\n",
    "y_pred"
   ]
  },
  {
   "cell_type": "code",
   "execution_count": 62,
   "metadata": {},
   "outputs": [
    {
     "data": {
      "text/plain": [
       "array([ 1.,  1.,  1., ...,  1.,  1.,  1.], dtype=float32)"
      ]
     },
     "execution_count": 62,
     "metadata": {},
     "output_type": "execute_result"
    }
   ],
   "source": [
    "y_pred[y_pred > 0.5] = 1\n",
    "y_pred[y_pred <= 0.5] = 0\n",
    "y_pred"
   ]
  },
  {
   "cell_type": "code",
   "execution_count": 66,
   "metadata": {},
   "outputs": [
    {
     "data": {
      "text/plain": [
       "(0.85980883022303145, 0.14019116977696855)"
      ]
     },
     "execution_count": 66,
     "metadata": {},
     "output_type": "execute_result"
    }
   ],
   "source": [
    "accuracy_score(y_pred, y_test), 1-accuracy_score(y_pred, y_test)"
   ]
  },
  {
   "cell_type": "code",
   "execution_count": 65,
   "metadata": {},
   "outputs": [
    {
     "name": "stdout",
     "output_type": "stream",
     "text": [
      "Accuracy: 85.98%\n"
     ]
    }
   ],
   "source": [
    "# evaluate predictions\n",
    "accuracy = accuracy_score(y_pred,y_test)\n",
    "print(\"Accuracy: %.2f%%\" % (accuracy * 100.0))"
   ]
  },
  {
   "cell_type": "code",
   "execution_count": null,
   "metadata": {
    "collapsed": true
   },
   "outputs": [],
   "source": []
  }
 ],
 "metadata": {
  "kernelspec": {
   "display_name": "Python 3",
   "language": "python",
   "name": "python3"
  },
  "language_info": {
   "codemirror_mode": {
    "name": "ipython",
    "version": 3
   },
   "file_extension": ".py",
   "mimetype": "text/x-python",
   "name": "python",
   "nbconvert_exporter": "python",
   "pygments_lexer": "ipython3",
   "version": "3.6.3"
  }
 },
 "nbformat": 4,
 "nbformat_minor": 2
}
