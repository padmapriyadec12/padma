{
 "cells": [
  {
   "cell_type": "code",
   "execution_count": 1,
   "metadata": {
    "collapsed": true
   },
   "outputs": [],
   "source": [
    "from sklearn import neighbors,preprocessing,datasets\n",
    "from sklearn.model_selection import train_test_split\n",
    "from sklearn.metrics import accuracy_score"
   ]
  },
  {
   "cell_type": "code",
   "execution_count": 2,
   "metadata": {
    "collapsed": true
   },
   "outputs": [],
   "source": [
    "iris=datasets.load_iris()"
   ]
  },
  {
   "cell_type": "code",
   "execution_count": 13,
   "metadata": {
    "collapsed": true
   },
   "outputs": [],
   "source": [
    "X=iris.data[:, :2]\n",
    "y=iris.target\n"
   ]
  },
  {
   "cell_type": "code",
   "execution_count": 14,
   "metadata": {
    "collapsed": true
   },
   "outputs": [],
   "source": [
    "X_train,X_test,y_train,y_test=train_test_split(X,y,random_state=33)"
   ]
  },
  {
   "cell_type": "code",
   "execution_count": 19,
   "metadata": {
    "collapsed": true
   },
   "outputs": [],
   "source": [
    "#Standardisation\n",
    "from sklearn.preprocessing import StandardScaler\n",
    "sc=StandardScaler().fit(X_train)\n",
    "stan_X=sc.transform(X_train)\n",
    "stan_X_test=sc.transform(X_test)\n"
   ]
  },
  {
   "cell_type": "code",
   "execution_count": 21,
   "metadata": {
    "collapsed": true
   },
   "outputs": [],
   "source": [
    "from sklearn.preprocessing import Normalizer\n",
    "from sklearn.preprocessing import Binarizer\n",
    "from sklearn.preprocessing import LabelEncoder\n",
    "from sklearn.preprocessing import Imputer"
   ]
  },
  {
   "cell_type": "code",
   "execution_count": 25,
   "metadata": {},
   "outputs": [
    {
     "data": {
      "text/plain": [
       "array([[ 5. ,  2.3],\n",
       "       [ 4.9,  3.1],\n",
       "       [ 6.3,  2.3],\n",
       "       [ 5.8,  2.6],\n",
       "       [ 6.2,  2.9],\n",
       "       [ 4.7,  3.2],\n",
       "       [ 4.6,  3.4],\n",
       "       [ 5.1,  2.5],\n",
       "       [ 4.8,  3.4],\n",
       "       [ 7.9,  3.8],\n",
       "       [ 5.1,  3.4],\n",
       "       [ 5.1,  3.7],\n",
       "       [ 5.6,  2.9],\n",
       "       [ 6.5,  3. ],\n",
       "       [ 5.4,  3.9],\n",
       "       [ 7. ,  3.2],\n",
       "       [ 5.8,  2.8],\n",
       "       [ 7.7,  2.6],\n",
       "       [ 5.5,  2.5],\n",
       "       [ 5.9,  3.2],\n",
       "       [ 4.9,  3.1],\n",
       "       [ 4.5,  2.3],\n",
       "       [ 6.3,  2.8],\n",
       "       [ 4.4,  2.9],\n",
       "       [ 5. ,  3.6],\n",
       "       [ 7.2,  3. ],\n",
       "       [ 6. ,  3.4],\n",
       "       [ 6.2,  2.2],\n",
       "       [ 7.4,  2.8],\n",
       "       [ 6.8,  3. ],\n",
       "       [ 6.4,  2.8],\n",
       "       [ 5.7,  2.5],\n",
       "       [ 5. ,  3.5],\n",
       "       [ 5.1,  3.8],\n",
       "       [ 6.8,  2.8],\n",
       "       [ 5.2,  2.7],\n",
       "       [ 5.1,  3.8],\n",
       "       [ 5.6,  2.5],\n",
       "       [ 6.1,  3. ],\n",
       "       [ 6.6,  2.9],\n",
       "       [ 6.4,  2.8],\n",
       "       [ 4.3,  3. ],\n",
       "       [ 7.2,  3.6],\n",
       "       [ 5.1,  3.5],\n",
       "       [ 6.3,  2.5],\n",
       "       [ 4.4,  3.2],\n",
       "       [ 7.6,  3. ],\n",
       "       [ 6.4,  3.2],\n",
       "       [ 5.1,  3.8],\n",
       "       [ 6.5,  3.2],\n",
       "       [ 6.3,  2.7],\n",
       "       [ 5. ,  3.5],\n",
       "       [ 5.2,  3.4],\n",
       "       [ 6.4,  2.7],\n",
       "       [ 5.8,  4. ],\n",
       "       [ 5.7,  4.4],\n",
       "       [ 4.6,  3.2],\n",
       "       [ 6.9,  3.1],\n",
       "       [ 6.3,  2.9],\n",
       "       [ 5.5,  3.5],\n",
       "       [ 5.7,  2.6],\n",
       "       [ 5. ,  3.3],\n",
       "       [ 6. ,  2.2],\n",
       "       [ 4.9,  3. ],\n",
       "       [ 5. ,  2. ],\n",
       "       [ 6.6,  3. ],\n",
       "       [ 5.7,  2.8],\n",
       "       [ 5.5,  2.6],\n",
       "       [ 5.5,  2.3],\n",
       "       [ 4.8,  3.1],\n",
       "       [ 6. ,  2.9],\n",
       "       [ 5. ,  3. ],\n",
       "       [ 6.9,  3.1],\n",
       "       [ 6.7,  2.5],\n",
       "       [ 5.3,  3.7],\n",
       "       [ 5.2,  4.1],\n",
       "       [ 5. ,  3.4],\n",
       "       [ 4.6,  3.6],\n",
       "       [ 7.7,  3.8],\n",
       "       [ 7.3,  2.9],\n",
       "       [ 4.6,  3.1],\n",
       "       [ 5.5,  2.4],\n",
       "       [ 5.8,  2.7],\n",
       "       [ 6.7,  3.3],\n",
       "       [ 5.8,  2.7],\n",
       "       [ 5.4,  3.7],\n",
       "       [ 5. ,  3.4],\n",
       "       [ 6. ,  2.7],\n",
       "       [ 5.7,  2.8],\n",
       "       [ 6.1,  2.8],\n",
       "       [ 5.1,  3.3],\n",
       "       [ 5.6,  3. ],\n",
       "       [ 5.4,  3. ],\n",
       "       [ 5.4,  3.9],\n",
       "       [ 6.7,  3.3],\n",
       "       [ 4.9,  2.5],\n",
       "       [ 6.2,  3.4],\n",
       "       [ 5.5,  2.4],\n",
       "       [ 7.7,  2.8],\n",
       "       [ 5.4,  3.4],\n",
       "       [ 6.7,  3. ],\n",
       "       [ 5.5,  4.2],\n",
       "       [ 5. ,  3.2],\n",
       "       [ 4.8,  3. ],\n",
       "       [ 5.8,  2.7],\n",
       "       [ 5.9,  3. ],\n",
       "       [ 7.1,  3. ],\n",
       "       [ 4.9,  2.4],\n",
       "       [ 6.3,  2.5],\n",
       "       [ 5.6,  3. ],\n",
       "       [ 7.7,  3. ],\n",
       "       [ 5.4,  3.4]])"
      ]
     },
     "execution_count": 25,
     "metadata": {},
     "output_type": "execute_result"
    }
   ],
   "source": [
    "#imputation\n",
    "imp = Imputer(missing_values=0, strategy='mean', axis=0)\n",
    "imp.fit_transform(X_train)\n"
   ]
  },
  {
   "cell_type": "code",
   "execution_count": null,
   "metadata": {
    "collapsed": true
   },
   "outputs": [],
   "source": []
  }
 ],
 "metadata": {
  "kernelspec": {
   "display_name": "Python 3",
   "language": "python",
   "name": "python3"
  },
  "language_info": {
   "codemirror_mode": {
    "name": "ipython",
    "version": 3
   },
   "file_extension": ".py",
   "mimetype": "text/x-python",
   "name": "python",
   "nbconvert_exporter": "python",
   "pygments_lexer": "ipython3",
   "version": "3.6.3"
  }
 },
 "nbformat": 4,
 "nbformat_minor": 2
}
